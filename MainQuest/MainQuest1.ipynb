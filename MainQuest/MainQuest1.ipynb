{
  "nbformat": 4,
  "nbformat_minor": 0,
  "metadata": {
    "colab": {
      "provenance": [],
      "toc_visible": true,
      "authorship_tag": "ABX9TyPGJF8zTt8bhOQXyJM2GvpA",
      "include_colab_link": true
    },
    "kernelspec": {
      "name": "python3",
      "display_name": "Python 3"
    },
    "language_info": {
      "name": "python"
    }
  },
  "cells": [
    {
      "cell_type": "markdown",
      "metadata": {
        "id": "view-in-github",
        "colab_type": "text"
      },
      "source": [
        "<a href=\"https://colab.research.google.com/github/parkmicheal1114/Python_Quest/blob/main/MainQuest/MainQuest1.ipynb\" target=\"_parent\"><img src=\"https://colab.research.google.com/assets/colab-badge.svg\" alt=\"Open In Colab\"/></a>"
      ]
    },
    {
      "cell_type": "markdown",
      "source": [
        "Q1.Account 클래스 생성.\n",
        " - 은행 이름(bank_name) : SC\n",
        " - 예금주 : owner\n",
        " - 계좌번호 : account_num\n",
        " - 잔액 : balance\n",
        " - 계좌 번호는 랜덤하게 (3자리- 2자리 - 6자리)\n",
        " - 생성자 에서는 예금주와 초기 잔액만 입력 받음."
      ],
      "metadata": {
        "id": "3_77M5kIKpQj"
      }
    },
    {
      "cell_type": "code",
      "execution_count": 5,
      "metadata": {
        "id": "M4e0zvbZJUfz"
      },
      "outputs": [],
      "source": [
        "# 계좌 번호 생성을 위한 random 모듈 생성\n",
        "import random as r\n",
        "\n",
        "# Bank 클래스 생성\n",
        "class Bank:\n",
        "  def __init__(self,owner,balance):\n",
        "    self.owner = owner\n",
        "    self.balance = balance\n",
        "    self.bank_name = 'SC은행'\n",
        "\n",
        "    # account_num 은 구간별로 랜덤값 생성후 결합.\n",
        "    # zfill() : 자리수에 맞춰서 001 , 00089 이런식으로 생성하는 메서드  \n",
        "    num1 = str(r.randint(0,999)).zfill(3)\n",
        "    num2 = str(r.randint(0,99)).zfill(2)\n",
        "    num3 = str(r.randint(0,999999)).zfill(6)\n",
        "    self.account_num = num1 + \" - \" + num2 + ' - ' + num3"
      ]
    },
    {
      "cell_type": "code",
      "source": [
        "# test\n",
        "test = Bank('박기용',1000000)\n",
        "print(test.account_num)\n",
        "print(test.owner)\n",
        "print(test.balance)"
      ],
      "metadata": {
        "colab": {
          "base_uri": "https://localhost:8080/"
        },
        "id": "FzPgnLjNN6Dd",
        "outputId": "88872e7d-8fcd-4119-8e55-04e2dc78088a"
      },
      "execution_count": 6,
      "outputs": [
        {
          "output_type": "stream",
          "name": "stdout",
          "text": [
            "079 - 38 - 957431\n",
            "박기용\n",
            "1000000\n"
          ]
        }
      ]
    },
    {
      "cell_type": "markdown",
      "source": [
        "Q2~Q3.Account 계좌 개설수 카운트 객체 추가\n",
        " - get_account_num()"
      ],
      "metadata": {
        "id": "oGUbswKNOqxh"
      }
    },
    {
      "cell_type": "code",
      "source": [
        "# Bank 클래스 생성\n",
        "class Bank:\n",
        "  account_count = 0 # account_count 변수 초기화\n",
        "  def __init__(self,owner,balance):\n",
        "    self.owner = owner\n",
        "    self.balance = balance\n",
        "    self.bank_name = 'SC은행'\n",
        "\n",
        "    # account_num 은 구간별로 랜덤값 생성후 결합.\n",
        "    # zfill() : 자리수에 맞춰서 001 , 00089 이런식으로 생성하는 메서드  \n",
        "    num1 = str(r.randint(0,999)).zfill(3)\n",
        "    num2 = str(r.randint(0,99)).zfill(2)\n",
        "    num3 = str(r.randint(0,999999)).zfill(6)\n",
        "    self.account_num = num1 + \" - \" + num2 + ' - ' + num3\n",
        "\n",
        "    # 계좌 개설시에 1씩 추가.\n",
        "    Bank.account_count += 1\n",
        "\n",
        "  # 총 계좌 개설 수량 확인 메서드\n",
        "  def get_account_num(self):\n",
        "    print(Bank.account_count)"
      ],
      "metadata": {
        "id": "OlBsFckbOqUj"
      },
      "execution_count": 19,
      "outputs": []
    },
    {
      "cell_type": "code",
      "source": [
        "# test\n",
        "# test2 = Bank('박기용',1000000)\n",
        "# test3 = Bank('박기용',1000000)\n",
        "test4 = Bank('박기용1', 10000 )\n",
        "test4.get_account_num()"
      ],
      "metadata": {
        "colab": {
          "base_uri": "https://localhost:8080/"
        },
        "id": "Rundx-bTP6Fr",
        "outputId": "a8db168f-b6f5-4466-c53f-2bb8d3f0288a"
      },
      "execution_count": 22,
      "outputs": [
        {
          "output_type": "stream",
          "name": "stdout",
          "text": [
            "3\n"
          ]
        }
      ]
    },
    {
      "cell_type": "markdown",
      "source": [
        "Q4 입금 메서드 \n",
        " - deposit()\n",
        " - input_money : 입금액\n",
        " - 입금은 최소 1원 부터 가능. "
      ],
      "metadata": {
        "id": "nyJiBhGhRji6"
      }
    },
    {
      "cell_type": "code",
      "source": [
        "# Bank 클래스 생성\n",
        "class Bank:\n",
        "  account_count = 0 # account_count 변수 초기화\n",
        "  def __init__(self,owner,balance):\n",
        "    self.owner = owner\n",
        "    self.balance = balance\n",
        "    self.bank_name = 'SC은행'\n",
        "\n",
        "    # account_num 은 구간별로 랜덤값 생성후 결합.\n",
        "    # zfill() : 자리수에 맞춰서 001 , 00089 이런식으로 생성하는 메서드  \n",
        "    num1 = str(r.randint(0,999)).zfill(3)\n",
        "    num2 = str(r.randint(0,99)).zfill(2)\n",
        "    num3 = str(r.randint(0,999999)).zfill(6)\n",
        "    self.account_num = num1 + \" - \" + num2 + ' - ' + num3\n",
        "\n",
        "    # 계좌 개설시에 1씩 추가.\n",
        "    Bank.account_count += 1\n",
        "\n",
        "  # 총 계좌 개설 수량 확인 메서드\n",
        "  def get_account_num(self):\n",
        "    print(Bank.account_count)\n",
        "\n",
        "  # 입금 처리 메서드\n",
        "  def deposit(self,input_money):\n",
        "    if input_money:\n",
        "      # 잔고에 추가 \n",
        "      self.balance += input_money\n",
        "    else :\n",
        "      # 입금액이 0 이면 출력.\n",
        "      print('입금액을 확인 하세요')"
      ],
      "metadata": {
        "id": "yMW9erfHUoNf"
      },
      "execution_count": 39,
      "outputs": []
    },
    {
      "cell_type": "code",
      "source": [
        "# test\n",
        "# test4 = Bank('박기용1', 10000 )\n",
        "# test4.deposit(0)\n",
        "# test4.deposit(1)\n",
        "\n",
        "test4.balance"
      ],
      "metadata": {
        "colab": {
          "base_uri": "https://localhost:8080/"
        },
        "id": "9pE7gE2OVHuu",
        "outputId": "9d81255b-5f3c-4e5a-edb7-e56915772f47"
      },
      "execution_count": 43,
      "outputs": [
        {
          "output_type": "execute_result",
          "data": {
            "text/plain": [
              "10001"
            ]
          },
          "metadata": {},
          "execution_count": 43
        }
      ]
    },
    {
      "cell_type": "markdown",
      "source": [
        "Q5 출금 메서드 \n",
        " - withdraw()\n",
        " - output_money : 출금액\n",
        " - 입금은 최소 1원 부터 가능. "
      ],
      "metadata": {
        "id": "aAy0vFjZVoYX"
      }
    },
    {
      "cell_type": "code",
      "source": [
        "# Bank 클래스 생성\n",
        "class Bank:\n",
        "  account_count = 0 # account_count 변수 초기화\n",
        "  def __init__(self,owner,balance):\n",
        "    self.owner = owner\n",
        "    self.balance = balance\n",
        "    self.bank_name = 'SC은행'\n",
        "\n",
        "    # account_num 은 구간별로 랜덤값 생성후 결합.\n",
        "    # zfill() : 자리수에 맞춰서 001 , 00089 이런식으로 생성하는 메서드  \n",
        "    num1 = str(r.randint(0,999)).zfill(3)\n",
        "    num2 = str(r.randint(0,99)).zfill(2)\n",
        "    num3 = str(r.randint(0,999999)).zfill(6)\n",
        "    self.account_num = num1 + \" - \" + num2 + ' - ' + num3\n",
        "\n",
        "    # 계좌 개설시에 1씩 추가.\n",
        "    Bank.account_count += 1\n",
        "\n",
        "  # 총 계좌 개설 수량 확인 메서드\n",
        "  def get_account_num(self):\n",
        "    print(Bank.account_count)\n",
        "\n",
        "  # 입금 처리 메서드\n",
        "  def deposit(self,input_money):\n",
        "    if input_money:\n",
        "      # 잔고에 추가 \n",
        "      self.balance += input_money\n",
        "    else :\n",
        "      # 입금액이 0 이면 출력.\n",
        "      print('입금액을 확인 하세요')\n",
        "\n",
        "  # 출금 처리 메서드\n",
        "  def withdraw(self,output_money):\n",
        "    if output_money <= self.balance:\n",
        "      # 잔고에서 차감. \n",
        "      self.balance -= output_money\n",
        "    else :\n",
        "      # 출금액이 0 이면 출력.\n",
        "      print(f'잔액을 확인 하세요.현재잔액은 {self.balance} 입니다.')"
      ],
      "metadata": {
        "id": "nAVXeRN6Vn0W"
      },
      "execution_count": 52,
      "outputs": []
    },
    {
      "cell_type": "code",
      "source": [
        "# test4 = Bank('박기용1', 10000 )\n",
        "# test4.withdraw(200)\n",
        "test4.withdraw(1000000)"
      ],
      "metadata": {
        "colab": {
          "base_uri": "https://localhost:8080/"
        },
        "id": "CP0zW6mRWP_M",
        "outputId": "26d0ba4b-fe12-463b-d90b-c5c81faf660e"
      },
      "execution_count": 54,
      "outputs": [
        {
          "output_type": "stream",
          "name": "stdout",
          "text": [
            "잔액을 확인 하세요.현재잔액은 10000 입니다.\n"
          ]
        }
      ]
    },
    {
      "cell_type": "markdown",
      "source": [
        "Q6. 정보 출력 메서드\n",
        " - display_info()\n",
        " - 은행 이름 , 예금주 , 계좌 번호 , 잔고 출력\n",
        " - 잔고는 3자리 마다 쉼표 출력."
      ],
      "metadata": {
        "id": "Wj_HxK1GXgz2"
      }
    },
    {
      "cell_type": "code",
      "source": [
        "# 쉼표 테스트\n",
        "x  = 1000000\n",
        "print (f\"{test4.balance:,}\")"
      ],
      "metadata": {
        "colab": {
          "base_uri": "https://localhost:8080/"
        },
        "id": "khamkoSfYBT4",
        "outputId": "5eaf499c-6b8e-4b8d-b0cc-2ed1200cf731"
      },
      "execution_count": 59,
      "outputs": [
        {
          "output_type": "stream",
          "name": "stdout",
          "text": [
            "10,000\n"
          ]
        }
      ]
    },
    {
      "cell_type": "code",
      "source": [
        "# Bank 클래스 생성\n",
        "class Bank:\n",
        "  account_count = 0 # account_count 변수 초기화\n",
        "  def __init__(self,owner,balance):\n",
        "    self.owner = owner\n",
        "    self.balance = balance\n",
        "    self.bank_name = 'SC은행'\n",
        "\n",
        "    # account_num 은 구간별로 랜덤값 생성후 결합.\n",
        "    # zfill() : 자리수에 맞춰서 001 , 00089 이런식으로 생성하는 메서드  \n",
        "    num1 = str(r.randint(0,999)).zfill(3)\n",
        "    num2 = str(r.randint(0,99)).zfill(2)\n",
        "    num3 = str(r.randint(0,999999)).zfill(6)\n",
        "    self.account_num = num1 + \" - \" + num2 + ' - ' + num3\n",
        "\n",
        "    # 계좌 개설시에 1씩 추가.\n",
        "    Bank.account_count += 1\n",
        "\n",
        "  # 총 계좌 개설 수량 확인 메서드\n",
        "  def get_account_num(self):\n",
        "    print(Bank.account_count)\n",
        "\n",
        "  # 입금 처리 메서드\n",
        "  def deposit(self,input_money):\n",
        "    if input_money:\n",
        "      # 잔고에 추가 \n",
        "      self.balance += input_money\n",
        "    else :\n",
        "      # 입금액이 0 이면 출력.\n",
        "      print('입금액을 확인 하세요')\n",
        "\n",
        "  # 출금 처리 메서드\n",
        "  def withdraw(self,output_money):\n",
        "    if output_money <= self.balance:\n",
        "      # 잔고에서 차감. \n",
        "      self.balance -= output_money\n",
        "    else :\n",
        "      # 출금액이 0 이면 출력.\n",
        "      print(f'잔액을 확인 하세요.현재잔액은 {self.balance} 입니다.')\n",
        "\n",
        "  # 계좌 정보 출력 메서드\n",
        "  def display_info(self):\n",
        "    print(f\"은행명  : {self.bank_name}\")\n",
        "    print(f\"예금주  : {self.owner}\")\n",
        "    print(f\"계좌번호: : {self.account_num}\")\n",
        "    print(f\"잔 고   : {self.balance:,}\")"
      ],
      "metadata": {
        "id": "1NZJ2lRNY5kN"
      },
      "execution_count": 60,
      "outputs": []
    },
    {
      "cell_type": "code",
      "source": [
        "## test\n",
        "test4 = Bank('박기용', 10000 )\n",
        "test4.display_info()"
      ],
      "metadata": {
        "colab": {
          "base_uri": "https://localhost:8080/"
        },
        "id": "aPxeSUjjZ15s",
        "outputId": "f1d7a9c4-e2d2-4f8c-ac71-1818a2bf5824"
      },
      "execution_count": 62,
      "outputs": [
        {
          "output_type": "stream",
          "name": "stdout",
          "text": [
            "은행명  : SC은행\n",
            "예금주  : 박기용\n",
            "계좌번호: : 574 - 68 - 003642\n",
            "잔 고   : 10,000\n"
          ]
        }
      ]
    },
    {
      "cell_type": "markdown",
      "source": [
        "Q7. 이자 지급 하기 \n",
        " - depoit() 메서드에 기능 추가\n",
        " - 5회 이상 입금시 총 잔고에 1% 추가"
      ],
      "metadata": {
        "id": "EN9yHJ3YY5KI"
      }
    },
    {
      "cell_type": "code",
      "source": [
        "# Bank 클래스 생성\n",
        "class Bank:\n",
        "  account_count = 0 # account_count 변수 초기화\n",
        "  def __init__(self,owner,balance):\n",
        "    self.owner = owner\n",
        "    self.balance = balance\n",
        "    self.bank_name = 'SC은행'\n",
        "    self.input_money_count = 0\n",
        "\n",
        "    # account_num 은 구간별로 랜덤값 생성후 결합.\n",
        "    # zfill() : 자리수에 맞춰서 001 , 00089 이런식으로 생성하는 메서드  \n",
        "    num1 = str(r.randint(0,999)).zfill(3)\n",
        "    num2 = str(r.randint(0,99)).zfill(2)\n",
        "    num3 = str(r.randint(0,999999)).zfill(6)\n",
        "    self.account_num = num1 + \" - \" + num2 + ' - ' + num3\n",
        "\n",
        "    # 계좌 개설시에 1씩 추가.\n",
        "    Bank.account_count += 1\n",
        "\n",
        "  # 총 계좌 개설 수량 확인 메서드\n",
        "  def get_account_num(self):\n",
        "    print(Bank.account_count)\n",
        "\n",
        "  # 입금 처리 메서드\n",
        "  def deposit(self,input_money):\n",
        "    if input_money:\n",
        "      # 잔고에 추가 \n",
        "      self.balance += input_money\n",
        "\n",
        "      # 이자 지급 . 회수는 5의 배수로 1% 지급 . \n",
        "      if self.input_money_count % 5 == 0:\n",
        "        self.balance = self.balance * 1.01\n",
        "\n",
        "    else :\n",
        "      # 입금액이 0 이면 출력.\n",
        "      print('입금액을 확인 하세요')\n",
        "\n",
        "  # 출금 처리 메서드\n",
        "  def withdraw(self,output_money):\n",
        "    if output_money <= self.balance:\n",
        "      # 잔고에서 차감. \n",
        "      self.balance -= output_money\n",
        "    else :\n",
        "      # 출금액이 0 이면 출력.\n",
        "      print(f'잔액을 확인 하세요.현재잔액은 {self.balance} 입니다.')\n",
        "\n",
        "  # 계좌 정보 출력 메서드\n",
        "  def display_info(self):\n",
        "    print(f\"은행명  : {self.bank_name}\")\n",
        "    print(f\"예금주  : {self.owner}\")\n",
        "    print(f\"계좌번호: : {self.account_num}\")\n",
        "    print(f\"잔 고   : {self.balance:,.0f}\")"
      ],
      "metadata": {
        "id": "MuzOZs9hY4Vz"
      },
      "execution_count": 73,
      "outputs": []
    },
    {
      "cell_type": "code",
      "source": [
        "# test\n",
        "test = Bank('박기용', 10000 )\n",
        "test.deposit(10000)\n",
        "test.deposit(10000)\n",
        "test.deposit(10000)\n",
        "test.deposit(10000)\n",
        "test.deposit(10000)\n",
        "test.display_info()"
      ],
      "metadata": {
        "colab": {
          "base_uri": "https://localhost:8080/"
        },
        "id": "gJyIRHI2eZC_",
        "outputId": "c322c403-d7f0-46e5-a4e7-06114195cccf"
      },
      "execution_count": 68,
      "outputs": [
        {
          "output_type": "stream",
          "name": "stdout",
          "text": [
            "은행명  : SC은행\n",
            "예금주  : 박기용\n",
            "계좌번호: : 206 - 40 - 314860\n",
            "잔 고   : 62,030\n"
          ]
        }
      ]
    },
    {
      "cell_type": "markdown",
      "source": [
        "Q8.3개 이상의 인스턴스를 생성 하고 리스트에 저장\n",
        "\n",
        "Q9.객체 순환 반복문을 통해 리스트에 있는 객체를 순회 하면서 100만원 이상의 잔고를 가진 고객의 정보를 출력"
      ],
      "metadata": {
        "id": "gbLJ9QkIfV3W"
      }
    },
    {
      "cell_type": "code",
      "source": [
        "# 인스턴스 생성.\n",
        "test = Bank('박기용', 10000 )\n",
        "test2 = Bank('모두연', 10000000 )\n",
        "test3 = Bank('아이펠', 1000000 )\n",
        "test4 = Bank('파이썬', 100000 )\n",
        "test5 = Bank('클래스', 1000000 )\n",
        "\n",
        "# 리스트 저장\n",
        "test_account = [test,test2,test3,test4,test5]\n",
        "\n",
        "# 100만원 이상 고객 정보 \n",
        "for account in test_account:\n",
        "  if account.balance >= 1000000:\n",
        "    print(account.display_info())\n",
        "    print()"
      ],
      "metadata": {
        "colab": {
          "base_uri": "https://localhost:8080/"
        },
        "id": "78hXUZCbgZEh",
        "outputId": "57d2c4a6-8727-4c5c-d593-8bf417914b2d"
      },
      "execution_count": 74,
      "outputs": [
        {
          "output_type": "stream",
          "name": "stdout",
          "text": [
            "은행명  : SC은행\n",
            "예금주  : 모두연\n",
            "계좌번호: : 635 - 94 - 547620\n",
            "잔 고   : 10,000,000\n",
            "None\n",
            "\n",
            "은행명  : SC은행\n",
            "예금주  : 아이펠\n",
            "계좌번호: : 914 - 42 - 965688\n",
            "잔 고   : 1,000,000\n",
            "None\n",
            "\n",
            "은행명  : SC은행\n",
            "예금주  : 클래스\n",
            "계좌번호: : 844 - 80 - 832249\n",
            "잔 고   : 1,000,000\n",
            "None\n",
            "\n"
          ]
        }
      ]
    },
    {
      "cell_type": "markdown",
      "source": [
        "# MainQuest\n",
        "Q10 . depoit_history, withdraw_history 메서드 추가\n",
        "- 입출금 내역이 기록 되도록 업데이트 하고 , 메서드를 통해서 출력 하라.\n",
        "\n",
        "> 추가 작업\n",
        "- Q1~Q9에서  Bank 클래스 를 Account클래스 로 수정\n",
        "- 이자 금액도 내역에 추가."
      ],
      "metadata": {
        "id": "5iDd_LfliABX"
      }
    },
    {
      "cell_type": "code",
      "source": [],
      "metadata": {
        "id": "UdB9tZigiR2p"
      },
      "execution_count": null,
      "outputs": []
    },
    {
      "cell_type": "code",
      "source": [
        "# Account 클래스 생성\n",
        "class Account:\n",
        "  account_count = 0 # account_count 변수 초기화\n",
        "  def __init__(self,owner,balance):\n",
        "    self.owner = owner\n",
        "    self.balance = balance\n",
        "    self.bank_name = 'SC은행'\n",
        "    self.input_money_count = 0 # 입금 회수 초기화\n",
        "    self.deposit_log = [] # 입금 내역 리스트 초기화\n",
        "    self.withdraw_log = [] # 출금 내역 리스트 초기화\n",
        "\n",
        "    # account_num 은 구간별로 랜덤값 생성후 결합.\n",
        "    # zfill() : 자리수에 맞춰서 001 , 00089 이런식으로 생성하는 메서드  \n",
        "    num1 = str(r.randint(0,999)).zfill(3)\n",
        "    num2 = str(r.randint(0,99)).zfill(2)\n",
        "    num3 = str(r.randint(0,999999)).zfill(6)\n",
        "    self.account_num = num1 + \" - \" + num2 + ' - ' + num3 # 계좌 번호 조합\n",
        "\n",
        "    # 계좌 개설시에 1씩 추가.\n",
        "    Bank.account_count += 1\n",
        "    self.deposit_log.append(balance)\n",
        "\n",
        "  # 총 계좌 개설 수량 확인 메서드\n",
        "  def get_account_num(self):\n",
        "    print(Bank.account_count)\n",
        "\n",
        "  # 입금 처리 메서드\n",
        "  def deposit(self,input_money):\n",
        "    if input_money:\n",
        "      # 입금내역 추가\n",
        "      self.deposit_log.append(input_money)\n",
        "      # 잔고에 추가 \n",
        "      self.balance += input_money\n",
        "\n",
        "      # 입금 회수 추가\n",
        "      self.input_money_count += 1\n",
        "      # 이자 지급 . 회수는 5의 배수로 1% 지급 . \n",
        "      if self.input_money_count % 5 == 0:\n",
        "        self.deposit_log.append(self.balance*0.01) # 이자 지급 내역 추가 \n",
        "        self.balance = self.balance * 1.01\n",
        "\n",
        "    else :\n",
        "      # 입금액이 0 이면 출력.\n",
        "      print('입금액을 확인 하세요')\n",
        "\n",
        "  # 출금 처리 메서드\n",
        "  def withdraw(self,output_money):\n",
        "    if output_money <= self.balance:\n",
        "      self.withdraw_log.append(output_money)\n",
        "      # 잔고에서 차감. \n",
        "      self.balance -= output_money\n",
        "    else :\n",
        "      # 출금액이 0 이면 출력.\n",
        "      print(f'잔액을 확인 하세요.현재잔액은 {self.balance} 입니다.')\n",
        "\n",
        "  # 계좌 정보 출력 메서드\n",
        "  def display_info(self):\n",
        "    print(f\"은행명  : {self.bank_name}\")\n",
        "    print(f\"예금주  : {self.owner}\")\n",
        "    print(f\"계좌번호: : {self.account_num}\")\n",
        "    print(f\"잔 고   : {self.balance:,.0f}\")\n",
        "\n",
        "  # 입금 내역\n",
        "  def deposit_history(self):\n",
        "    for i, m in enumerate(self.deposit_log):\n",
        "      print(f'{i}회차 입금, 입금 금액 {m:,}')\n",
        "      if i % 6 == 0 and i != 0 :\n",
        "        print(f'{i//6}회차 이자 지금') \n",
        "  \n",
        "  # 출금 내역\n",
        "  def withdraw_history(self):\n",
        "    for m in self.withdraw_log:\n",
        "      print(f'{m:,}원 출금')\n",
        "    print(f\"통장 잔고 : {self.balance:,}\")\n"
      ],
      "metadata": {
        "id": "ZSupAG5OiSr0"
      },
      "execution_count": 170,
      "outputs": []
    },
    {
      "cell_type": "code",
      "source": [
        "# 인스턴스 생성.\n",
        "test1 = Account('박기용', 100000000)\n",
        "test1.deposit(10000)\n",
        "test1.deposit(10000)\n",
        "test1.deposit(10000)\n",
        "test1.deposit(10000)\n",
        "test1.deposit(10000)\n",
        "test1.deposit(10000)\n",
        "test1.deposit(10000)\n",
        "test1.deposit(10000)\n",
        "test1.withdraw(100000)\n",
        "test1.deposit(10000)\n",
        "test1.deposit(10000)\n",
        "test1.withdraw(100000)\n",
        "test1.withdraw(902000)"
      ],
      "metadata": {
        "id": "jS20hWYWk_23"
      },
      "execution_count": 171,
      "outputs": []
    },
    {
      "cell_type": "code",
      "source": [
        "# 입금 내역\n",
        "test1.deposit_history()"
      ],
      "metadata": {
        "colab": {
          "base_uri": "https://localhost:8080/"
        },
        "id": "jIrO2ahpnPjp",
        "outputId": "e6ce3e7f-db71-452f-bfd2-82d26db5aace"
      },
      "execution_count": 172,
      "outputs": [
        {
          "output_type": "stream",
          "name": "stdout",
          "text": [
            "0회차 입금, 입금 금액 100,000,000\n",
            "1회차 입금, 입금 금액 10,000\n",
            "2회차 입금, 입금 금액 10,000\n",
            "3회차 입금, 입금 금액 10,000\n",
            "4회차 입금, 입금 금액 10,000\n",
            "5회차 입금, 입금 금액 10,000\n",
            "6회차 입금, 입금 금액 1,000,500.0\n",
            "1회차 이자 지금\n",
            "7회차 입금, 입금 금액 10,000\n",
            "8회차 입금, 입금 금액 10,000\n",
            "9회차 입금, 입금 금액 10,000\n",
            "10회차 입금, 입금 금액 10,000\n",
            "11회차 입금, 입금 금액 10,000\n",
            "12회차 입금, 입금 금액 1,010,005.0\n",
            "2회차 이자 지금\n"
          ]
        }
      ]
    },
    {
      "cell_type": "code",
      "source": [
        "# 출금 내역\n",
        "test1.withdraw_history()"
      ],
      "metadata": {
        "colab": {
          "base_uri": "https://localhost:8080/"
        },
        "id": "51hzklkTw_QJ",
        "outputId": "fa55df9d-7935-486d-cab5-6b8c8754f25b"
      },
      "execution_count": 173,
      "outputs": [
        {
          "output_type": "stream",
          "name": "stdout",
          "text": [
            "100,000원 출금\n",
            "100,000원 출금\n",
            "902,000원 출금\n",
            "통장 잔고 : 101,008,505.0\n"
          ]
        }
      ]
    },
    {
      "cell_type": "code",
      "source": [
        "# 계좌 정보\n",
        "test1.display_info()"
      ],
      "metadata": {
        "colab": {
          "base_uri": "https://localhost:8080/"
        },
        "id": "H0bHvzE_xjiZ",
        "outputId": "50935254-5512-4383-9c8f-1b0907d9fc9a"
      },
      "execution_count": 174,
      "outputs": [
        {
          "output_type": "stream",
          "name": "stdout",
          "text": [
            "은행명  : SC은행\n",
            "예금주  : 박기용\n",
            "계좌번호: : 962 - 92 - 856248\n",
            "잔 고   : 101,008,505\n"
          ]
        }
      ]
    }
  ]
}