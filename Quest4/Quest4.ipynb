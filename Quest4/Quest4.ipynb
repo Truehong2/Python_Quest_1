{
  "nbformat": 4,
  "nbformat_minor": 0,
  "metadata": {
    "colab": {
      "provenance": [],
      "authorship_tag": "ABX9TyOG5LOPQxcQAnpScwGQ4eVt",
      "include_colab_link": true
    },
    "kernelspec": {
      "name": "python3",
      "display_name": "Python 3"
    },
    "language_info": {
      "name": "python"
    }
  },
  "cells": [
    {
      "cell_type": "markdown",
      "metadata": {
        "id": "view-in-github",
        "colab_type": "text"
      },
      "source": [
        "<a href=\"https://colab.research.google.com/github/parkmicheal1114/Python_Quest/blob/main/Quest4/Quest4.ipynb\" target=\"_parent\"><img src=\"https://colab.research.google.com/assets/colab-badge.svg\" alt=\"Open In Colab\"/></a>"
      ]
    },
    {
      "cell_type": "markdown",
      "source": [
        "[파이썬] 퀘스트: 물고기들의 움직임을 시뮬레이션하기!\n",
        "\n",
        "난이도: ★★★☆☆\n",
        "\n",
        "장르: 함수, 컴프리헨션, 이터레이터, 제너레이터\n",
        "\n",
        "---\n",
        "\n",
        "다음 조건을 활용하여 물고기가 물 속에서 움직이는 것을 시뮬레이션해보자!\n",
        "\n",
        "조건 :\n",
        "물고기의 움직임을 출력하는 함수를 컴프리헨션과 이터레이터, 제너레이터를 활용해서 만듭니다.\n",
        "물고기 객체의 움직임을 시뮬레이션하는 클래스를 구현해야 합니다.\n",
        "물고기 객체는 이름과 속도 속성을 가져야합니다.\n",
        "물고기 리스트를 활용하셔야합니다.\n",
        "물고기 객체의 움직임은 랜덤하게 선택된 방향으로 이루어지며, 물고기 객체가 움직이는 동안에는 그 움직임이 출력되어야 합니다.\n",
        "물고기 객체의 움직임은 일정 시간 간격으로 반복되어야 합니다.\n",
        "\n",
        "~~~\n",
        "\n",
        "입력값 : \n",
        "\n",
        "# 물고기 리스트\n",
        "fish_list = [\n",
        "    Fish(\"Nemo\", 3),\n",
        "    Fish(\"Dory\", 5),\n",
        "    Fish(\"Marlin\", 7),\n",
        "    Fish(\"Bubbles\", 2),\n",
        "    Fish(\"Gill\", 4)\n",
        "]\n",
        "\n",
        "# 물고기들의 움직임 출력\n",
        "print(\"Using Comprehension:\")\n",
        "show_fish_movement_comprehension(fish_list)\n",
        "\n",
        "print(\"\\nUsing Iterator:\")\n",
        "show_fish_movement_iterator(fish_list)\n",
        "\n",
        "---\n",
        "\n",
        "출력값 :\n",
        "\n",
        "Using Comprehension:\n",
        "Nemo is swimming at 3 m/s\n",
        "Dory is swimming at 5 m/s\n",
        "Marlin is swimming at 7 m/s\n",
        "Bubbles is swimming at 2 m/s\n",
        "Gill is swimming at 4 m/s\n",
        "\n",
        "Using Iterator:\n",
        "Nemo is swimming at 3 m/s\n",
        "Dory is swimming at 5 m/s\n",
        "Marlin is swimming at 7 m/s\n",
        "Bubbles is swimming at 2 m/s\n",
        "Gill is swimming at 4 m/s\n",
        "~~~"
      ],
      "metadata": {
        "id": "Ha2IYB3gftaZ"
      }
    },
    {
      "cell_type": "code",
      "execution_count": 46,
      "metadata": {
        "id": "t5jnw3p_dOGx"
      },
      "outputs": [],
      "source": [
        "# Fish 객체 생성.\n",
        "class Fish:\n",
        "  def __init__(self,name,speed ):\n",
        "    self.name = name\n",
        "    self.speed = speed\n",
        "\n",
        "# comprehension.\n",
        "def show_fish_movement_comprehension(fish_list):    \n",
        "  [print(f\"{fish.name} is swimming {fish.speed} m/s\") for fish in fish_list] \n",
        "\n",
        "# iterator.\n",
        "def show_fish_movement_iterator(fish_list):   \n",
        "  for fish in fish_list:\n",
        "    print(f\"{fish.name} is swimming {fish.speed} m/s\")\n",
        "\n",
        "# generator,\n",
        "def show_fish_movement_generator(fish_list):   \n",
        "  for fish in fish_list:\n",
        "    print(f\"{fish.name} is swimming {fish.speed} m/s\")\n",
        "    yield"
      ]
    },
    {
      "cell_type": "code",
      "source": [
        "# fish_list \n",
        "fish_list = [\n",
        "    Fish(\"Nemo\", 3),\n",
        "    Fish(\"Dory\", 5),\n",
        "    Fish(\"Marlin\", 7),\n",
        "    Fish(\"Bubbles\", 2),\n",
        "    Fish(\"Gill\", 4)\n",
        "]\n",
        "\n",
        "# 컴프리핸션 결과값\n",
        "print(\"Using Comprehension:\")\n",
        "show_fish_movement_comprehension(fish_list)\n",
        "\n",
        "# 이터레이터 결과값\n",
        "print(\"\\nUsing Iterator:\")\n",
        "show_fish_movement_iterator(fish_list)\n",
        "\n",
        "# 이터레이터 결과값\n",
        "print(\"\\nUsing Generator:\")\n",
        "generator = show_fish_movement_generator(fish_list)\n",
        "for _ in generator:\n",
        "  pass\n"
      ],
      "metadata": {
        "colab": {
          "base_uri": "https://localhost:8080/"
        },
        "id": "slCTEgHpkVeG",
        "outputId": "2293f608-5917-4105-de16-2f0414b48ce4"
      },
      "execution_count": 48,
      "outputs": [
        {
          "output_type": "stream",
          "name": "stdout",
          "text": [
            "Using Comprehension:\n",
            "Nemo is swimming 3 m/s\n",
            "Dory is swimming 5 m/s\n",
            "Marlin is swimming 7 m/s\n",
            "Bubbles is swimming 2 m/s\n",
            "Gill is swimming 4 m/s\n",
            "\n",
            "Using Iterator:\n",
            "Nemo is swimming 3 m/s\n",
            "Dory is swimming 5 m/s\n",
            "Marlin is swimming 7 m/s\n",
            "Bubbles is swimming 2 m/s\n",
            "Gill is swimming 4 m/s\n",
            "\n",
            "Using Generator:\n",
            "Nemo is swimming 3 m/s\n",
            "Dory is swimming 5 m/s\n",
            "Marlin is swimming 7 m/s\n",
            "Bubbles is swimming 2 m/s\n",
            "Gill is swimming 4 m/s\n"
          ]
        }
      ]
    }
  ]
}