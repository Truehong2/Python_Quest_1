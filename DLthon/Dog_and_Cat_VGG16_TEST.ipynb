{
  "nbformat": 4,
  "nbformat_minor": 0,
  "metadata": {
    "colab": {
      "provenance": [],
      "gpuType": "T4",
      "mount_file_id": "1t-Xc2gBSIeVdTcb4ClIwQs018ftg_5Wa",
      "authorship_tag": "ABX9TyNYYpyy6fyg83HxOZStwCc+",
      "include_colab_link": true
    },
    "kernelspec": {
      "name": "python3",
      "display_name": "Python 3"
    },
    "language_info": {
      "name": "python"
    },
    "accelerator": "GPU"
  },
  "cells": [
    {
      "cell_type": "markdown",
      "metadata": {
        "id": "view-in-github",
        "colab_type": "text"
      },
      "source": [
        "<a href=\"https://colab.research.google.com/github/parkmicheal1114/Python_Quest/blob/main/DLthon/Dog_and_Cat_VGG16_TEST.ipynb\" target=\"_parent\"><img src=\"https://colab.research.google.com/assets/colab-badge.svg\" alt=\"Open In Colab\"/></a>"
      ]
    },
    {
      "cell_type": "markdown",
      "source": [
        "# Impot Library"
      ],
      "metadata": {
        "id": "0a5As9gDJJ6e"
      }
    },
    {
      "cell_type": "code",
      "execution_count": null,
      "metadata": {
        "id": "izLkRx6JjsWj"
      },
      "outputs": [],
      "source": [
        "import numpy as np\n",
        "import sys\n",
        "import tensorflow as tf\n",
        "import os\n",
        "import pandas as pd\n",
        "from keras.models import Sequential\n",
        "from keras.layers import Dense, Dropout, Flatten, Conv2D, MaxPooling2D\n",
        "from sklearn.model_selection import train_test_split\n",
        "from tensorflow.keras.preprocessing.image import ImageDataGenerator\n",
        "\n",
        "%matplotlib inline\n",
        "import matplotlib.pyplot as plt"
      ]
    },
    {
      "cell_type": "markdown",
      "source": [
        "# Data preprocessing"
      ],
      "metadata": {
        "id": "c3C_YGJsJPZR"
      }
    },
    {
      "cell_type": "code",
      "source": [
        "import zipfile\n",
        "\n",
        "zip_paths = ['/content/drive/MyDrive/Colab Notebooks/study_dataset/dogs-vs-cats/train.zip' , '/content/drive/MyDrive/Colab Notebooks/study_dataset/dogs-vs-cats/test1.zip']  # 압축 파일의 경로와 파일명\n",
        "extract_dir = './content/dogs-vs-cats/'  # 압축 해제할 폴더의 경로와 이름\n",
        "\n",
        "for zip_path in zip_paths:\n",
        "  with zipfile.ZipFile(zip_path, 'r') as zip_ref:\n",
        "      zip_ref.extractall(extract_dir)"
      ],
      "metadata": {
        "id": "S4Oa4HSJjzCR"
      },
      "execution_count": null,
      "outputs": []
    },
    {
      "cell_type": "code",
      "source": [
        "# train 폴더 확인\n",
        "train_folder_path = './content/dogs-vs-cats/train'\n",
        "\n",
        "train_file_names = os.listdir(train_folder_path)\n",
        "print(\"train file name\" , train_file_names[:5] )\n",
        "print(\"train file numbers\" , len(train_file_names))"
      ],
      "metadata": {
        "colab": {
          "base_uri": "https://localhost:8080/"
        },
        "id": "KC3uxV3fj1DT",
        "outputId": "942093c2-1fda-487e-d04a-6ea1f307691d"
      },
      "execution_count": null,
      "outputs": [
        {
          "output_type": "stream",
          "name": "stdout",
          "text": [
            "train file name ['cat.10600.jpg', 'cat.6545.jpg', 'cat.9254.jpg', 'dog.7384.jpg', 'cat.2704.jpg']\n",
            "train file numbers 25000\n"
          ]
        }
      ]
    },
    {
      "cell_type": "code",
      "source": [
        "# test 폴더 확인\n",
        "test_folder_path = './content/dogs-vs-cats/test1'\n",
        "\n",
        "test_file_names = os.listdir(test_folder_path)\n",
        "print(\"test file name\" , test_file_names[:5] )\n",
        "print(\"test file numbers\" , len(test_file_names))"
      ],
      "metadata": {
        "colab": {
          "base_uri": "https://localhost:8080/"
        },
        "id": "5q9jaA2Qj2Nv",
        "outputId": "6f4148d3-8f54-4c25-d136-276a9858e7d3"
      },
      "execution_count": null,
      "outputs": [
        {
          "output_type": "stream",
          "name": "stdout",
          "text": [
            "test file name ['4816.jpg', '11279.jpg', '10006.jpg', '3756.jpg', '7137.jpg']\n",
            "test file numbers 12500\n"
          ]
        }
      ]
    },
    {
      "cell_type": "code",
      "source": [
        "# Train dataframe\n",
        "\n",
        "targets = []\n",
        "full_paths = []\n",
        "train_cats_dir = []\n",
        "train_dogs_dir = []\n",
        "\n",
        "\n",
        "# Target setting\n",
        "for file_name in train_file_names:\n",
        "    target = file_name.split(\".\")[0] # target name\n",
        "    full_path = os.path.join(train_folder_path, file_name)\n",
        "\n",
        "    if(target == \"dog\"):\n",
        "        train_dogs_dir.append(full_path)\n",
        "    if(target == \"cat\"):\n",
        "        train_cats_dir.append(full_path)\n",
        "\n",
        "    full_paths.append(full_path)\n",
        "    targets.append(target)\n",
        "\n",
        "\n",
        "df_train = pd.DataFrame()\n",
        "df_train['image_path'] = full_paths\n",
        "df_train['target'] = targets"
      ],
      "metadata": {
        "id": "xuZtRfydj8yV"
      },
      "execution_count": null,
      "outputs": []
    },
    {
      "cell_type": "code",
      "source": [
        "# Test Data DataFrame\n",
        "full_paths = []\n",
        "file_names = []\n",
        "\n",
        "for file_name in test_file_names:\n",
        "    full_path = os.path.join(test_folder_path, file_name)\n",
        "\n",
        "    file_names.append(file_name)\n",
        "    full_paths.append(full_path)\n",
        "\n",
        "\n",
        "df_test = pd.DataFrame()\n",
        "df_test['image_path'] = full_paths\n",
        "df_test['filename'] = file_names\n"
      ],
      "metadata": {
        "id": "DrkCoxi9kJ4F"
      },
      "execution_count": null,
      "outputs": []
    },
    {
      "cell_type": "code",
      "source": [
        "train_data , val_data = train_test_split(df_train, test_size=0.2, random_state=123)"
      ],
      "metadata": {
        "id": "m9Gzuir_khUh"
      },
      "execution_count": null,
      "outputs": []
    },
    {
      "cell_type": "code",
      "source": [
        "import seaborn as sns\n",
        "print('학습 데이터 개수 ' , len(train_data))\n",
        "print('검증 데이터 개수 ' , len(val_data))\n",
        "\n",
        "plt.suptitle('Train Class Count')\n",
        "sns.countplot(data = df_train , x='target')"
      ],
      "metadata": {
        "colab": {
          "base_uri": "https://localhost:8080/",
          "height": 552
        },
        "id": "yCcbmaNykwUt",
        "outputId": "24549ac4-96bf-4ef9-9f4e-00a2fbfc0099"
      },
      "execution_count": null,
      "outputs": [
        {
          "output_type": "stream",
          "name": "stdout",
          "text": [
            "학습 데이터 개수  20000\n",
            "검증 데이터 개수  5000\n"
          ]
        },
        {
          "output_type": "execute_result",
          "data": {
            "text/plain": [
              "<Axes: xlabel='target', ylabel='count'>"
            ]
          },
          "metadata": {},
          "execution_count": 8
        },
        {
          "output_type": "display_data",
          "data": {
            "text/plain": [
              "<Figure size 640x480 with 1 Axes>"
            ],
            "image/png": "[encoded data removed]"
          },
          "metadata": {}
        }
      ]
    },
    {
      "cell_type": "code",
      "source": [
        "# 테스트 parameter Initialization\n",
        "batch_size = 128\n",
        "epochs = 30\n",
        "IMG_HEIGHT = 256\n",
        "IMG_WIDTH = 256"
      ],
      "metadata": {
        "id": "KoyXpu6Okxbu"
      },
      "execution_count": null,
      "outputs": []
    },
    {
      "cell_type": "code",
      "source": [
        "from keras.applications.vgg16 import preprocess_input as vgg16_preprocess_input\n",
        "\n",
        "# DataGenrator 를 사용해서 Train , Val , Test data 를 생성 하도록 한다.\n",
        "image_gen_train = ImageDataGenerator(rescale=1./255,\n",
        "                                     rotation_range=10,\n",
        "                                     width_shift_range=0.1,\n",
        "                                     height_shift_range=0.1,\n",
        "                                     zoom_range=0.1,\n",
        "                                     horizontal_flip=True,\n",
        "                                     preprocessing_function = vgg16_preprocess_input)\n",
        "\n",
        "train_data_gen = image_gen_train.flow_from_dataframe(batch_size = batch_size,\n",
        "                                                     dataframe = train_data,\n",
        "                                                     x_col = 'image_path',\n",
        "                                                     y_col = 'target',\n",
        "                                                     shuffle=True,\n",
        "                                                     target_size=(IMG_HEIGHT, IMG_WIDTH),\n",
        "                                                     class_mode='binary')\n",
        "\n",
        "val_datagen = ImageDataGenerator(rescale=1./255)\n",
        "\n",
        "val_data_gen = val_datagen.flow_from_dataframe(batch_size = batch_size,\n",
        "                                                     dataframe = val_data,\n",
        "                                                     x_col = 'image_path',\n",
        "                                                     y_col = 'target',\n",
        "                                                     target_size=(IMG_HEIGHT, IMG_WIDTH),\n",
        "                                                     class_mode='binary')\n",
        "\n",
        "# test_datagen = ImageDataGenerator(rescale=1./255)\n",
        "\n",
        "# test_data_gen = test_datagen.flow_from_dataframe(batch_size = batch_size,\n",
        "#                                                      dataframe = df_test,\n",
        "#                                                      x_col = 'image_path',\n",
        "#                                                      y_col = 'target',\n",
        "#                                                      target_size=(IMG_HEIGHT, IMG_WIDTH),\n",
        "#                                                      class_mode='binary')"
      ],
      "metadata": {
        "colab": {
          "base_uri": "https://localhost:8080/"
        },
        "id": "kA172Xi1k3g-",
        "outputId": "355e4b92-6768-4b48-ce30-e37ffb4201f7"
      },
      "execution_count": null,
      "outputs": [
        {
          "output_type": "stream",
          "name": "stdout",
          "text": [
            "Found 20000 validated image filenames belonging to 2 classes.\n",
            "Found 5000 validated image filenames belonging to 2 classes.\n"
          ]
        }
      ]
    },
    {
      "cell_type": "markdown",
      "source": [
        "# Model Building"
      ],
      "metadata": {
        "id": "xbHoqhElJoRB"
      }
    },
    {
      "cell_type": "code",
      "source": [
        "# callback 선언.\n",
        "from keras.callbacks import EarlyStopping , ReduceLROnPlateau\n",
        "\n",
        "early_stopping = EarlyStopping(monitor='val_loss', patience=5, verbose=1, mode='min')\n",
        "reduce_lr = ReduceLROnPlateau(monitor='val_loss', factor=0.2, patience=3, verbose=1, mode='min')\n",
        "\n",
        "callbacks = [early_stopping, reduce_lr]\n"
      ],
      "metadata": {
        "id": "TbPT4OoUn2yR"
      },
      "execution_count": null,
      "outputs": []
    },
    {
      "cell_type": "markdown",
      "source": [
        "## VGG16 TransferLearning"
      ],
      "metadata": {
        "id": "4EBlYiRLJvEg"
      }
    },
    {
      "cell_type": "code",
      "source": [
        "# from keras.applications import VGG16\n",
        "\n",
        "# # VGG16 모델 불러오기\n",
        "# vgg16 = VGG16(input_shape=(IMG_HEIGHT,IMG_WIDTH,3), include_top=False, weights=\"imagenet\")\n",
        "\n",
        "# # 모든 층을 고정\n",
        "# for layer in vgg16.layers:\n",
        "#     layer.trainable = False\n",
        "\n",
        "# # FC Layer 추가하기\n",
        "# model = models.Sequential()\n",
        "# model.add(vgg16)\n",
        "# model.add(layers.Flatten())\n",
        "# model.add(layers.Dense(256, activation='relu'))\n",
        "# model.add(layers.Dense(1, activation='sigmoid'))\n",
        "\n",
        "\n",
        "# model.compile(loss = tf.keras.losses.binary_crossentropy,\n",
        "#               optimizer = tf.keras.optimizers.RMSprop(learning_rate=1e-4), metrics=['accuracy'])\n",
        "\n",
        "# history = model.fit(\n",
        "#   train_data_gen,\n",
        "#   steps_per_epoch= train_data.shape[0]/batch_size,\n",
        "#   validation_steps= val_data.shape[0]/batch_size,\n",
        "#   batch_size = batch_size,\n",
        "#   epochs=epochs,\n",
        "#   callbacks = callbacks,\n",
        "#   validation_data= val_data_gen)\n"
      ],
      "metadata": {
        "colab": {
          "base_uri": "https://localhost:8080/",
          "height": 283
        },
        "id": "BXK0xKkyk5a7",
        "outputId": "a8907d09-fa8a-4d90-bf1b-2a727bb11341"
      },
      "execution_count": null,
      "outputs": [
        {
          "output_type": "stream",
          "name": "stdout",
          "text": [
            "Downloading data from https://storage.googleapis.com/tensorflow/keras-applications/vgg16/vgg16_weights_tf_dim_ordering_tf_kernels_notop.h5\n",
            "58889256/58889256 [==============================] - 0s 0us/step\n"
          ]
        },
        {
          "output_type": "error",
          "ename": "NameError",
          "evalue": "ignored",
          "traceback": [
            "\u001b[0;31m---------------------------------------------------------------------------\u001b[0m",
            "\u001b[0;31mNameError\u001b[0m                                 Traceback (most recent call last)",
            "\u001b[0;32m<ipython-input-12-2f33dd756a7f>\u001b[0m in \u001b[0;36m<cell line: 11>\u001b[0;34m()\u001b[0m\n\u001b[1;32m      9\u001b[0m \u001b[0;34m\u001b[0m\u001b[0m\n\u001b[1;32m     10\u001b[0m \u001b[0;31m# FC Layer 추가하기\u001b[0m\u001b[0;34m\u001b[0m\u001b[0;34m\u001b[0m\u001b[0m\n\u001b[0;32m---> 11\u001b[0;31m \u001b[0mmodel\u001b[0m \u001b[0;34m=\u001b[0m \u001b[0mmodels\u001b[0m\u001b[0;34m.\u001b[0m\u001b[0mSequential\u001b[0m\u001b[0;34m(\u001b[0m\u001b[0;34m)\u001b[0m\u001b[0;34m\u001b[0m\u001b[0;34m\u001b[0m\u001b[0m\n\u001b[0m\u001b[1;32m     12\u001b[0m \u001b[0mmodel\u001b[0m\u001b[0;34m.\u001b[0m\u001b[0madd\u001b[0m\u001b[0;34m(\u001b[0m\u001b[0mvgg16\u001b[0m\u001b[0;34m)\u001b[0m\u001b[0;34m\u001b[0m\u001b[0;34m\u001b[0m\u001b[0m\n\u001b[1;32m     13\u001b[0m \u001b[0mmodel\u001b[0m\u001b[0;34m.\u001b[0m\u001b[0madd\u001b[0m\u001b[0;34m(\u001b[0m\u001b[0mlayers\u001b[0m\u001b[0;34m.\u001b[0m\u001b[0mFlatten\u001b[0m\u001b[0;34m(\u001b[0m\u001b[0;34m)\u001b[0m\u001b[0;34m)\u001b[0m\u001b[0;34m\u001b[0m\u001b[0;34m\u001b[0m\u001b[0m\n",
            "\u001b[0;31mNameError\u001b[0m: name 'models' is not defined"
          ]
        }
      ]
    },
    {
      "cell_type": "code",
      "source": [
        "# # 모델 저장\n",
        "# model.to_save('./content/dogs-vs-cats/vgg16_ver1.h5')"
      ],
      "metadata": {
        "id": "zQ6dzQV_-SYO"
      },
      "execution_count": null,
      "outputs": []
    },
    {
      "cell_type": "code",
      "source": [
        "# def plot_model_history(model_history, acc='accuracy', val_acc='val_accuracy'):\n",
        "#     fig, axs = plt.subplots(1,2,figsize=(15,5))\n",
        "\n",
        "#     axs[0].plot(range(1,len(model_history.history[acc])+1),model_history.history[acc])\n",
        "#     axs[0].plot(range(1,len(model_history.history[val_acc])+1),model_history.history[val_acc])\n",
        "#     axs[0].set_title('Model Accuracy')\n",
        "#     axs[0].set_ylabel('Accuracy')\n",
        "#     axs[0].set_xlabel('Epoch')\n",
        "\n",
        "#     axs[0].legend(['train', 'val'], loc='best')\n",
        "\n",
        "#     axs[1].plot(range(1,len(model_history.history['loss'])+1),model_history.history['loss'])\n",
        "#     axs[1].plot(range(1,len(model_history.history['val_loss'])+1),model_history.history['val_loss'])\n",
        "#     axs[1].set_title('Model Loss')\n",
        "#     axs[1].set_ylabel('Loss')\n",
        "#     axs[1].set_xlabel('Epoch')\n",
        "\n",
        "#     axs[1].legend(['train', 'val'], loc='best')\n",
        "#     plt.show()\n",
        "\n",
        "# plot_model_history(history)"
      ],
      "metadata": {
        "colab": {
          "base_uri": "https://localhost:8080/",
          "height": 411
        },
        "id": "G9z5PofCokM4",
        "outputId": "0b288b57-4a2f-44d7-e31e-fbe19ceae530"
      },
      "execution_count": null,
      "outputs": [
        {
          "output_type": "display_data",
          "data": {
            "text/plain": [
              "<Figure size 1500x500 with 2 Axes>"
            ],
            "image/png": "[encoded data removed]"
          },
          "metadata": {}
        }
      ]
    },
    {
      "cell_type": "markdown",
      "source": [
        "## VGG16 TransferLearing (Fine Tuning)"
      ],
      "metadata": {
        "id": "_radJ_cZJ8Xs"
      }
    },
    {
      "cell_type": "code",
      "source": [
        "from keras.applications import VGG16\n",
        "from keras import models, layers\n",
        "# VGG16 모델 불러오기 (pre-trained 가중치 포함)\n",
        "vgg16 = VGG16(input_shape=(IMG_HEIGHT,IMG_WIDTH,3), include_top=False, weights=\"imagenet\")\n",
        "\n",
        "# freeze_index 설정하기\n",
        "freeze_index = 11 # block4_conv1 레이어의 인덱스\n",
        "\n",
        "# freeze_index 이전의 층은 고정하고, 이후의 층은 학습 가능하게 설정하기\n",
        "for layer in vgg16.layers[:freeze_index]:\n",
        "    layer.trainable = False\n",
        "for layer in vgg16.layers[freeze_index:]:\n",
        "    layer.trainable = True\n",
        "\n",
        "\n",
        "# # FC Layer 추가하기\n",
        "from keras import models, layers\n",
        "model = models.Sequential()\n",
        "model.add(vgg16)\n",
        "model.add(layers.Flatten())\n",
        "model.add(layers.Dense(256, activation='relu'))\n",
        "model.add(layers.Dense(1, activation='sigmoid'))\n",
        "\n",
        "\n",
        "model.compile(loss = tf.keras.losses.binary_crossentropy,\n",
        "              optimizer = tf.keras.optimizers.RMSprop(learning_rate=1e-4), metrics=['accuracy'])\n",
        "\n",
        "history1 = model.fit(\n",
        "  train_data_gen,\n",
        "  steps_per_epoch= train_data.shape[0]/batch_size,\n",
        "  validation_steps= val_data.shape[0]/batch_size,\n",
        "  batch_size = batch_size,\n",
        "  epochs=epochs,\n",
        "  callbacks = callbacks,\n",
        "  validation_data= val_data_gen)"
      ],
      "metadata": {
        "id": "njC0v3Gessp6"
      },
      "execution_count": null,
      "outputs": []
    },
    {
      "cell_type": "code",
      "source": [
        "model.to_save('./content/dogs-vs-cats/vgg16_ver2.h5')"
      ],
      "metadata": {
        "id": "PYSUp0oT-qYO"
      },
      "execution_count": null,
      "outputs": []
    },
    {
      "cell_type": "code",
      "source": [
        "def plot_model_history(model_history, acc='accuracy', val_acc='val_accuracy'):\n",
        "    fig, axs = plt.subplots(1,2,figsize=(15,5))\n",
        "\n",
        "    axs[0].plot(range(1,len(model_history.history[acc])+1),model_history.history[acc])\n",
        "    axs[0].plot(range(1,len(model_history.history[val_acc])+1),model_history.history[val_acc])\n",
        "    axs[0].set_title('Model Accuracy')\n",
        "    axs[0].set_ylabel('Accuracy')\n",
        "    axs[0].set_xlabel('Epoch')\n",
        "\n",
        "    axs[0].legend(['train', 'val'], loc='best')\n",
        "\n",
        "    axs[1].plot(range(1,len(model_history.history['loss'])+1),model_history.history['loss'])\n",
        "    axs[1].plot(range(1,len(model_history.history['val_loss'])+1),model_history.history['val_loss'])\n",
        "    axs[1].set_title('Model Loss')\n",
        "    axs[1].set_ylabel('Loss')\n",
        "    axs[1].set_xlabel('Epoch')\n",
        "\n",
        "    axs[1].legend(['train', 'val'], loc='best')\n",
        "    plt.show()\n",
        "\n",
        "\n",
        "plot_model_history(history1)"
      ],
      "metadata": {
        "id": "qmvjJIPVtHV_"
      },
      "execution_count": null,
      "outputs": []
    },
    {
      "cell_type": "markdown",
      "source": [
        "# Test Data 평가\n",
        "\n",
        " - Label 데이터가 없어서 시각화로 표현"
      ],
      "metadata": {
        "id": "ibDGxkwlKBNy"
      }
    },
    {
      "cell_type": "code",
      "source": [
        "#테스트 데이터처리.\n",
        "test_datagen = ImageDataGenerator(rescale=1./255)\n",
        "\n",
        "test_data_gen = test_datagen.flow_from_dataframe(batch_size = batch_size,\n",
        "                                                     dataframe = df_test,\n",
        "                                                     x_col = 'image_path',\n",
        "                                                     y_col = 'target',\n",
        "                                                     target_size=(IMG_HEIGHT, IMG_WIDTH),\n",
        "                                                     class_mode='binary')"
      ],
      "metadata": {
        "id": "1vSiyI2ZIVvt"
      },
      "execution_count": null,
      "outputs": []
    },
    {
      "cell_type": "code",
      "source": [
        "# 모델 예측하기\n",
        "pred = model.predict(test_data_gen)\n",
        "\n",
        "# 임계값 적용하기\n",
        "predictions = (pred > 0.5).astype(int)\n",
        "df_test['pred']  = predictions"
      ],
      "metadata": {
        "id": "-W_kDBWVIdQs"
      },
      "execution_count": null,
      "outputs": []
    },
    {
      "cell_type": "code",
      "source": [
        "from PIL import Image\n",
        "\n",
        "# test 데이터 평가.\n",
        "fig = plt.figure(1, figsize=(20, 20))\n",
        "\n",
        "for i in range(25):\n",
        "    plt.subplot(5, 5, i+1)\n",
        "    plt.imshow(Image.open(df_test.image_path[i]))\n",
        "    plt.title(f\"Predicted as {'dog' if predictions[i] == 1 else 'cat'} \\n Confidence : {round(100*(np.max(pred[i])), 2)}% \", fontsize=8)\n",
        "\n",
        "plt.tight_layout\n",
        "plt.show"
      ],
      "metadata": {
        "id": "UJnceU-wIjIo"
      },
      "execution_count": null,
      "outputs": []
    }
  ]
}