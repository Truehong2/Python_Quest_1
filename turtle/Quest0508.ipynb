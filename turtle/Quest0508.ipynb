{
  "cells": [
    {
      "cell_type": "markdown",
      "metadata": {
        "id": "view-in-github",
        "colab_type": "text"
      },
      "source": [
        "<a href=\"https://colab.research.google.com/github/parkmicheal1114/Modu_Quest/blob/main/turtle/Quest0508.ipynb\" target=\"_parent\"><img src=\"https://colab.research.google.com/assets/colab-badge.svg\" alt=\"Open In Colab\"/></a>"
      ]
    },
    {
      "cell_type": "code",
      "execution_count": null,
      "metadata": {
        "colab": {
          "base_uri": "https://localhost:8080/"
        },
        "id": "h4M1SQKX2QpF",
        "outputId": "a885171d-0c58-42c5-e871-9116f86186e9"
      },
      "outputs": [
        {
          "name": "stdout",
          "output_type": "stream",
          "text": [
            "Looking in indexes: https://pypi.org/simple, https://us-python.pkg.dev/colab-wheels/public/simple/\n",
            "Collecting ColabTurtlePlus\n",
            "  Downloading ColabTurtlePlus-2.0.1-py3-none-any.whl (31 kB)\n",
            "Installing collected packages: ColabTurtlePlus\n",
            "Successfully installed ColabTurtlePlus-2.0.1\n",
            "Put clearscreen() as the first line in a cell (after the import command) to re-run turtle commands in the cell\n"
          ]
        }
      ],
      "source": [
        "!pip install ColabTurtlePlus\n",
        "from ColabTurtlePlus.Turtle import *"
      ]
    },
    {
      "cell_type": "code",
      "execution_count": null,
      "metadata": {
        "colab": {
          "background_save": true
        },
        "id": "5x0HaKW78dm6"
      },
      "outputs": [],
      "source": [
        "maze = [\n",
        "    [0, 1, 0, 0, 0],\n",
        "    [0, 0, 0, 1, 0],\n",
        "    [0, 1, 1, 0, 0],\n",
        "    [0, 0, 1, 1, 0],\n",
        "    [0, 0, 0, 0, 0]\n",
        "]\n",
        "\n",
        "position(maze)"
      ]
    },
    {
      "cell_type": "code",
      "source": [
        "\n",
        "\n",
        "maze = [[0, 1, 0, 0, 0], [0, 0, 0, 1, 0], [0, 1, 1, 0, 0], [0, 0, 1, 1, 0], [0, 0, 0, 0, 0]]\n",
        "\n",
        "\n",
        "\n",
        "\n",
        "# start_x = maze[0][0]\n",
        "# start_y = maze[0][0]\n",
        "\n",
        "i=start_x = 0\n",
        "j=start_y = 0\n",
        "           \n",
        "                                      # 2차원 리스트의 값을 바꿔 줄 수 있는 함수 정의\n",
        "def solve_maze(*args):\n",
        "  for i in range(5):\n",
        "    for j in range(5):         # 4,4까지 도달해야 하는 함수 정의, 가는 도중 1이 있으면 print\n",
        "      if maze[i][j] == 0: # 현재 좌표에서 1에 닿으면 이동해줘야 함\n",
        "        goto(40)\n",
        "        maze[i][j] = 2\n",
        "        print(\"미로를 찾을 수 없습니다.\")\n",
        "      elif maze[i][j] != 0 :\n",
        "        if maze[i+1][j] == 0:\n",
        "          right(90)\n",
        "          maze[i+1][j] = 2\n",
        "        print(\"미로를 찾았습니다.\")\n",
        "                                # 지나갈 수 있는 길, 리스트 내부 값을 2로 변경해줘야 함 \n",
        "\n",
        "\n",
        "goto(start_x, start_y)\n",
        "solve_maze(start_x, start_y)\n",
        "import pprint\n",
        "pprint.pprint(maze)\n",
        "# 행을 한 칸씩 오른쪽으로 이동하다가 1을 만나면 밑으로 가고나서 오른쪽으로, 밑에서 1을 만나면 위로 가고 오른쪽으로 가는 함수, 끝까지 가면 아래쪽으로 이동"
      ],
      "metadata": {
        "id": "HlAU7iajKjrD",
        "colab": {
          "base_uri": "https://localhost:8080/",
          "height": 395
        },
        "outputId": "3e919a4f-dd2c-4b2e-8b84-3eedd4cfe4f5"
      },
      "execution_count": null,
      "outputs": [
        {
          "output_type": "error",
          "ename": "ValueError",
          "evalue": "ignored",
          "traceback": [
            "\u001b[0;31m---------------------------------------------------------------------------\u001b[0m",
            "\u001b[0;31mValueError\u001b[0m                                Traceback (most recent call last)",
            "\u001b[0;32m<ipython-input-34-ff6e148f6368>\u001b[0m in \u001b[0;36m<cell line: 29>\u001b[0;34m()\u001b[0m\n\u001b[1;32m     27\u001b[0m \u001b[0;34m\u001b[0m\u001b[0m\n\u001b[1;32m     28\u001b[0m \u001b[0mgoto\u001b[0m\u001b[0;34m(\u001b[0m\u001b[0mstart_x\u001b[0m\u001b[0;34m,\u001b[0m \u001b[0mstart_y\u001b[0m\u001b[0;34m)\u001b[0m\u001b[0;34m\u001b[0m\u001b[0;34m\u001b[0m\u001b[0m\n\u001b[0;32m---> 29\u001b[0;31m \u001b[0msolve_maze\u001b[0m\u001b[0;34m(\u001b[0m\u001b[0mstart_x\u001b[0m\u001b[0;34m,\u001b[0m \u001b[0mstart_y\u001b[0m\u001b[0;34m)\u001b[0m\u001b[0;34m\u001b[0m\u001b[0;34m\u001b[0m\u001b[0m\n\u001b[0m\u001b[1;32m     30\u001b[0m \u001b[0;32mimport\u001b[0m \u001b[0mpprint\u001b[0m\u001b[0;34m\u001b[0m\u001b[0;34m\u001b[0m\u001b[0m\n\u001b[1;32m     31\u001b[0m \u001b[0mpprint\u001b[0m\u001b[0;34m.\u001b[0m\u001b[0mpprint\u001b[0m\u001b[0;34m(\u001b[0m\u001b[0mmaze\u001b[0m\u001b[0;34m)\u001b[0m\u001b[0;34m\u001b[0m\u001b[0;34m\u001b[0m\u001b[0m\n",
            "\u001b[0;32m<ipython-input-34-ff6e148f6368>\u001b[0m in \u001b[0;36msolve_maze\u001b[0;34m(*args)\u001b[0m\n\u001b[1;32m     15\u001b[0m     \u001b[0;32mfor\u001b[0m \u001b[0mj\u001b[0m \u001b[0;32min\u001b[0m \u001b[0mrange\u001b[0m\u001b[0;34m(\u001b[0m\u001b[0;36m5\u001b[0m\u001b[0;34m)\u001b[0m\u001b[0;34m:\u001b[0m         \u001b[0;31m# 4,4까지 도달해야 하는 함수 정의, 가는 도중 1이 있으면 print\u001b[0m\u001b[0;34m\u001b[0m\u001b[0;34m\u001b[0m\u001b[0m\n\u001b[1;32m     16\u001b[0m       \u001b[0;32mif\u001b[0m \u001b[0mmaze\u001b[0m\u001b[0;34m[\u001b[0m\u001b[0mi\u001b[0m\u001b[0;34m]\u001b[0m\u001b[0;34m[\u001b[0m\u001b[0mj\u001b[0m\u001b[0;34m]\u001b[0m \u001b[0;34m==\u001b[0m \u001b[0;36m0\u001b[0m\u001b[0;34m:\u001b[0m \u001b[0;31m# 현재 좌표에서 1에 닿으면 이동해줘야 함\u001b[0m\u001b[0;34m\u001b[0m\u001b[0;34m\u001b[0m\u001b[0m\n\u001b[0;32m---> 17\u001b[0;31m         \u001b[0mgoto\u001b[0m\u001b[0;34m(\u001b[0m\u001b[0;36m40\u001b[0m\u001b[0;34m)\u001b[0m\u001b[0;34m\u001b[0m\u001b[0;34m\u001b[0m\u001b[0m\n\u001b[0m\u001b[1;32m     18\u001b[0m         \u001b[0mmaze\u001b[0m\u001b[0;34m[\u001b[0m\u001b[0mi\u001b[0m\u001b[0;34m]\u001b[0m\u001b[0;34m[\u001b[0m\u001b[0mj\u001b[0m\u001b[0;34m]\u001b[0m \u001b[0;34m=\u001b[0m \u001b[0;36m2\u001b[0m\u001b[0;34m\u001b[0m\u001b[0;34m\u001b[0m\u001b[0m\n\u001b[1;32m     19\u001b[0m         \u001b[0mprint\u001b[0m\u001b[0;34m(\u001b[0m\u001b[0;34m\"미로를 찾을 수 없습니다.\"\u001b[0m\u001b[0;34m)\u001b[0m\u001b[0;34m\u001b[0m\u001b[0;34m\u001b[0m\u001b[0m\n",
            "\u001b[0;32m/usr/local/lib/python3.10/dist-packages/ColabTurtlePlus/Turtle.py\u001b[0m in \u001b[0;36mgoto\u001b[0;34m(x, y)\u001b[0m\n",
            "\u001b[0;32m/usr/local/lib/python3.10/dist-packages/ColabTurtlePlus/Turtle.py\u001b[0m in \u001b[0;36mgoto\u001b[0;34m(self, x, y)\u001b[0m\n\u001b[1;32m   1164\u001b[0m             \u001b[0;32mraise\u001b[0m \u001b[0mValueError\u001b[0m\u001b[0;34m(\u001b[0m\u001b[0;34m'New x position must be a number.'\u001b[0m\u001b[0;34m)\u001b[0m\u001b[0;34m\u001b[0m\u001b[0;34m\u001b[0m\u001b[0m\n\u001b[1;32m   1165\u001b[0m         \u001b[0;32mif\u001b[0m \u001b[0;32mnot\u001b[0m \u001b[0misinstance\u001b[0m\u001b[0;34m(\u001b[0m\u001b[0my\u001b[0m\u001b[0;34m,\u001b[0m \u001b[0;34m(\u001b[0m\u001b[0mint\u001b[0m\u001b[0;34m,\u001b[0m\u001b[0mfloat\u001b[0m\u001b[0;34m)\u001b[0m\u001b[0;34m)\u001b[0m\u001b[0;34m:\u001b[0m\u001b[0;34m\u001b[0m\u001b[0;34m\u001b[0m\u001b[0m\n\u001b[0;32m-> 1166\u001b[0;31m             \u001b[0;32mraise\u001b[0m \u001b[0mValueError\u001b[0m\u001b[0;34m(\u001b[0m\u001b[0;34m'New y position must be a number.'\u001b[0m\u001b[0;34m)\u001b[0m\u001b[0;34m\u001b[0m\u001b[0;34m\u001b[0m\u001b[0m\n\u001b[0m\u001b[1;32m   1167\u001b[0m         \u001b[0mtilt_angle_orig\u001b[0m \u001b[0;34m=\u001b[0m \u001b[0mself\u001b[0m\u001b[0;34m.\u001b[0m\u001b[0mtilt_angle\u001b[0m\u001b[0;34m\u001b[0m\u001b[0;34m\u001b[0m\u001b[0m\n\u001b[1;32m   1168\u001b[0m         \u001b[0mturtle_angle_orig\u001b[0m \u001b[0;34m=\u001b[0m \u001b[0mself\u001b[0m\u001b[0;34m.\u001b[0m\u001b[0mturtle_degree\u001b[0m\u001b[0;34m\u001b[0m\u001b[0;34m\u001b[0m\u001b[0m\n",
            "\u001b[0;31mValueError\u001b[0m: New y position must be a number."
          ]
        }
      ]
    },
    {
      "cell_type": "code",
      "source": [],
      "metadata": {
        "id": "zXmWfyz1SgjX"
      },
      "execution_count": null,
      "outputs": []
    }
  ],
  "metadata": {
    "colab": {
      "provenance": [],
      "include_colab_link": true
    },
    "kernelspec": {
      "display_name": "Python 3",
      "name": "python3"
    },
    "language_info": {
      "name": "python"
    }
  },
  "nbformat": 4,
  "nbformat_minor": 0
}