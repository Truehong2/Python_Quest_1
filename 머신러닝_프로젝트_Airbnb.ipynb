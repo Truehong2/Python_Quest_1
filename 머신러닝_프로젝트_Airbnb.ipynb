{
  "cells": [
    {
      "cell_type": "markdown",
      "metadata": {
        "id": "view-in-github",
        "colab_type": "text"
      },
      "source": [
        "<a href=\"https://colab.research.google.com/github/parkmicheal1114/Python_Quest/blob/main/%EB%A8%B8%EC%8B%A0%EB%9F%AC%EB%8B%9D_%ED%94%84%EB%A1%9C%EC%A0%9D%ED%8A%B8_Airbnb.ipynb\" target=\"_parent\"><img src=\"https://colab.research.google.com/assets/colab-badge.svg\" alt=\"Open In Colab\"/></a>"
      ]
    },
    {
      "cell_type": "markdown",
      "id": "3c4f9cd8",
      "metadata": {
        "id": "3c4f9cd8"
      },
      "source": [
        "https://www.kaggle.com/datasets/dgomonov/new-york-city-airbnb-open-data\n",
        "\n",
        "미국 NYC Airbnb 목록(2019)\n",
        "프로젝트 목적: 가격 예측(price)\n",
        "제공 데이터(3개): train.csv, test.csv, y_test(최종 채점용)\n",
        "평가 방식: MSE (평균제곱오차/ 실제 값과 예측 값 차이 ->제곱해 평균)\n",
        "<참고> : 6. 지도학습(회귀) 노드의 6-8. 평가(회귀) 스텝에서 복습하실 수 있습니다.\n",
        "\n",
        "** 파일은 lms 상에 있는 것을 사용 했으므로 실제 구동시에는 케글 사이트에서 다운로드 진행 하며 , 코드에 있는 경로는 lms 상의 경로 입니다."
      ]
    },
    {
      "cell_type": "markdown",
      "id": "bdb8dadc",
      "metadata": {
        "id": "bdb8dadc"
      },
      "source": [
        "# 1. 라이브러리와 데이터 불러오기"
      ]
    },
    {
      "cell_type": "code",
      "execution_count": null,
      "id": "1cdb4845",
      "metadata": {
        "id": "1cdb4845"
      },
      "outputs": [],
      "source": [
        "# 라이브러리 \n",
        "import pandas as pd\n",
        "\n",
        "train = pd.read_csv('/aiffel/data/train.csv')\n",
        "test = pd.read_csv('/aiffel/data/test.csv')"
      ]
    },
    {
      "cell_type": "markdown",
      "id": "9d6167b4",
      "metadata": {
        "id": "9d6167b4"
      },
      "source": [
        "# 2. EDA(탐색적 데이터 분석)"
      ]
    },
    {
      "cell_type": "code",
      "execution_count": null,
      "id": "acefca75",
      "metadata": {
        "id": "acefca75",
        "outputId": "b45bc587-d29b-49c4-c2bd-76c63500459a"
      },
      "outputs": [
        {
          "data": {
            "text/html": [
              "<div>\n",
              "<style scoped>\n",
              "    .dataframe tbody tr th:only-of-type {\n",
              "        vertical-align: middle;\n",
              "    }\n",
              "\n",
              "    .dataframe tbody tr th {\n",
              "        vertical-align: top;\n",
              "    }\n",
              "\n",
              "    .dataframe thead th {\n",
              "        text-align: right;\n",
              "    }\n",
              "</style>\n",
              "<table border=\"1\" class=\"dataframe\">\n",
              "  <thead>\n",
              "    <tr style=\"text-align: right;\">\n",
              "      <th></th>\n",
              "      <th>id</th>\n",
              "      <th>name</th>\n",
              "      <th>host_id</th>\n",
              "      <th>host_name</th>\n",
              "      <th>neighbourhood_group</th>\n",
              "      <th>neighbourhood</th>\n",
              "      <th>latitude</th>\n",
              "      <th>longitude</th>\n",
              "      <th>room_type</th>\n",
              "      <th>price</th>\n",
              "      <th>minimum_nights</th>\n",
              "      <th>number_of_reviews</th>\n",
              "      <th>last_review</th>\n",
              "      <th>reviews_per_month</th>\n",
              "      <th>calculated_host_listings_count</th>\n",
              "      <th>availability_365</th>\n",
              "    </tr>\n",
              "  </thead>\n",
              "  <tbody>\n",
              "    <tr>\n",
              "      <th>0</th>\n",
              "      <td>14963583</td>\n",
              "      <td>Room in South Harlem near Central Park</td>\n",
              "      <td>94219511</td>\n",
              "      <td>Gilles</td>\n",
              "      <td>Manhattan</td>\n",
              "      <td>Harlem</td>\n",
              "      <td>40.80167</td>\n",
              "      <td>-73.95781</td>\n",
              "      <td>Private room</td>\n",
              "      <td>70</td>\n",
              "      <td>3</td>\n",
              "      <td>3</td>\n",
              "      <td>2019-01-01</td>\n",
              "      <td>0.09</td>\n",
              "      <td>2</td>\n",
              "      <td>0</td>\n",
              "    </tr>\n",
              "    <tr>\n",
              "      <th>1</th>\n",
              "      <td>9458704</td>\n",
              "      <td>Large 1BR Apartment, near Times Sq (2nd Floor)</td>\n",
              "      <td>49015331</td>\n",
              "      <td>Iradj</td>\n",
              "      <td>Manhattan</td>\n",
              "      <td>Hell's Kitchen</td>\n",
              "      <td>40.76037</td>\n",
              "      <td>-73.99016</td>\n",
              "      <td>Entire home/apt</td>\n",
              "      <td>240</td>\n",
              "      <td>2</td>\n",
              "      <td>64</td>\n",
              "      <td>2019-06-30</td>\n",
              "      <td>1.68</td>\n",
              "      <td>2</td>\n",
              "      <td>262</td>\n",
              "    </tr>\n",
              "  </tbody>\n",
              "</table>\n",
              "</div>"
            ],
            "text/plain": [
              "         id                                            name   host_id  \\\n",
              "0  14963583          Room in South Harlem near Central Park  94219511   \n",
              "1   9458704  Large 1BR Apartment, near Times Sq (2nd Floor)  49015331   \n",
              "\n",
              "  host_name neighbourhood_group   neighbourhood  latitude  longitude  \\\n",
              "0    Gilles           Manhattan          Harlem  40.80167  -73.95781   \n",
              "1     Iradj           Manhattan  Hell's Kitchen  40.76037  -73.99016   \n",
              "\n",
              "         room_type  price  minimum_nights  number_of_reviews last_review  \\\n",
              "0     Private room     70               3                  3  2019-01-01   \n",
              "1  Entire home/apt    240               2                 64  2019-06-30   \n",
              "\n",
              "   reviews_per_month  calculated_host_listings_count  availability_365  \n",
              "0               0.09                               2                 0  \n",
              "1               1.68                               2               262  "
            ]
          },
          "metadata": {},
          "output_type": "display_data"
        },
        {
          "data": {
            "text/html": [
              "<div>\n",
              "<style scoped>\n",
              "    .dataframe tbody tr th:only-of-type {\n",
              "        vertical-align: middle;\n",
              "    }\n",
              "\n",
              "    .dataframe tbody tr th {\n",
              "        vertical-align: top;\n",
              "    }\n",
              "\n",
              "    .dataframe thead th {\n",
              "        text-align: right;\n",
              "    }\n",
              "</style>\n",
              "<table border=\"1\" class=\"dataframe\">\n",
              "  <thead>\n",
              "    <tr style=\"text-align: right;\">\n",
              "      <th></th>\n",
              "      <th>id</th>\n",
              "      <th>name</th>\n",
              "      <th>host_id</th>\n",
              "      <th>host_name</th>\n",
              "      <th>neighbourhood_group</th>\n",
              "      <th>neighbourhood</th>\n",
              "      <th>latitude</th>\n",
              "      <th>longitude</th>\n",
              "      <th>room_type</th>\n",
              "      <th>minimum_nights</th>\n",
              "      <th>number_of_reviews</th>\n",
              "      <th>last_review</th>\n",
              "      <th>reviews_per_month</th>\n",
              "      <th>calculated_host_listings_count</th>\n",
              "      <th>availability_365</th>\n",
              "    </tr>\n",
              "  </thead>\n",
              "  <tbody>\n",
              "    <tr>\n",
              "      <th>0</th>\n",
              "      <td>30913224</td>\n",
              "      <td>Cozy and Sunny Room Williamsburg, Luxury Building</td>\n",
              "      <td>33771081</td>\n",
              "      <td>Rémy</td>\n",
              "      <td>Brooklyn</td>\n",
              "      <td>Williamsburg</td>\n",
              "      <td>40.70959</td>\n",
              "      <td>-73.94652</td>\n",
              "      <td>Private room</td>\n",
              "      <td>3</td>\n",
              "      <td>2</td>\n",
              "      <td>2019-05-08</td>\n",
              "      <td>0.31</td>\n",
              "      <td>1</td>\n",
              "      <td>0</td>\n",
              "    </tr>\n",
              "    <tr>\n",
              "      <th>1</th>\n",
              "      <td>971247</td>\n",
              "      <td>Sunny Artist Live/Work Apartment</td>\n",
              "      <td>5308961</td>\n",
              "      <td>Larry</td>\n",
              "      <td>Manhattan</td>\n",
              "      <td>Upper West Side</td>\n",
              "      <td>40.79368</td>\n",
              "      <td>-73.96487</td>\n",
              "      <td>Entire home/apt</td>\n",
              "      <td>3</td>\n",
              "      <td>159</td>\n",
              "      <td>2019-07-03</td>\n",
              "      <td>2.09</td>\n",
              "      <td>1</td>\n",
              "      <td>244</td>\n",
              "    </tr>\n",
              "  </tbody>\n",
              "</table>\n",
              "</div>"
            ],
            "text/plain": [
              "         id                                               name   host_id  \\\n",
              "0  30913224  Cozy and Sunny Room Williamsburg, Luxury Building  33771081   \n",
              "1    971247                   Sunny Artist Live/Work Apartment   5308961   \n",
              "\n",
              "  host_name neighbourhood_group    neighbourhood  latitude  longitude  \\\n",
              "0      Rémy            Brooklyn     Williamsburg  40.70959  -73.94652   \n",
              "1     Larry           Manhattan  Upper West Side  40.79368  -73.96487   \n",
              "\n",
              "         room_type  minimum_nights  number_of_reviews last_review  \\\n",
              "0     Private room               3                  2  2019-05-08   \n",
              "1  Entire home/apt               3                159  2019-07-03   \n",
              "\n",
              "   reviews_per_month  calculated_host_listings_count  availability_365  \n",
              "0               0.31                               1                 0  \n",
              "1               2.09                               1               244  "
            ]
          },
          "metadata": {},
          "output_type": "display_data"
        }
      ],
      "source": [
        "# 데이터 샘플\n",
        "display(train.head(2))\n",
        "display(test.head(2))"
      ]
    },
    {
      "cell_type": "code",
      "execution_count": null,
      "id": "38085c95",
      "metadata": {
        "id": "38085c95",
        "outputId": "32b9301e-baac-4077-f70c-af515bac8b85"
      },
      "outputs": [
        {
          "name": "stdout",
          "output_type": "stream",
          "text": [
            "<class 'pandas.core.frame.DataFrame'>\n",
            "RangeIndex: 39116 entries, 0 to 39115\n",
            "Data columns (total 16 columns):\n",
            " #   Column                          Non-Null Count  Dtype  \n",
            "---  ------                          --------------  -----  \n",
            " 0   id                              39116 non-null  int64  \n",
            " 1   name                            39104 non-null  object \n",
            " 2   host_id                         39116 non-null  int64  \n",
            " 3   host_name                       39099 non-null  object \n",
            " 4   neighbourhood_group             39116 non-null  object \n",
            " 5   neighbourhood                   39116 non-null  object \n",
            " 6   latitude                        39116 non-null  float64\n",
            " 7   longitude                       39116 non-null  float64\n",
            " 8   room_type                       39116 non-null  object \n",
            " 9   price                           39116 non-null  int64  \n",
            " 10  minimum_nights                  39116 non-null  int64  \n",
            " 11  number_of_reviews               39116 non-null  int64  \n",
            " 12  last_review                     31122 non-null  object \n",
            " 13  reviews_per_month               31122 non-null  float64\n",
            " 14  calculated_host_listings_count  39116 non-null  int64  \n",
            " 15  availability_365                39116 non-null  int64  \n",
            "dtypes: float64(3), int64(7), object(6)\n",
            "memory usage: 4.8+ MB\n"
          ]
        }
      ],
      "source": [
        "# 데이터 타입\n",
        "train.info()"
      ]
    },
    {
      "cell_type": "code",
      "execution_count": null,
      "id": "92e72354",
      "metadata": {
        "id": "92e72354",
        "outputId": "d962deaf-629f-45ba-c435-5a3f3970219d"
      },
      "outputs": [
        {
          "data": {
            "text/plain": [
              "id                                   0\n",
              "name                                12\n",
              "host_id                              0\n",
              "host_name                           17\n",
              "neighbourhood_group                  0\n",
              "neighbourhood                        0\n",
              "latitude                             0\n",
              "longitude                            0\n",
              "room_type                            0\n",
              "price                                0\n",
              "minimum_nights                       0\n",
              "number_of_reviews                    0\n",
              "last_review                       7994\n",
              "reviews_per_month                 7994\n",
              "calculated_host_listings_count       0\n",
              "availability_365                     0\n",
              "dtype: int64"
            ]
          },
          "execution_count": 4,
          "metadata": {},
          "output_type": "execute_result"
        }
      ],
      "source": [
        "# 결측치(train)\n",
        "train.isnull().sum()"
      ]
    },
    {
      "cell_type": "code",
      "execution_count": null,
      "id": "1ebe7c77",
      "metadata": {
        "id": "1ebe7c77",
        "outputId": "156f6a09-519b-4cea-a54e-5537b638ce9f"
      },
      "outputs": [
        {
          "data": {
            "text/plain": [
              "id                                   0\n",
              "name                                 4\n",
              "host_id                              0\n",
              "host_name                            4\n",
              "neighbourhood_group                  0\n",
              "neighbourhood                        0\n",
              "latitude                             0\n",
              "longitude                            0\n",
              "room_type                            0\n",
              "minimum_nights                       0\n",
              "number_of_reviews                    0\n",
              "last_review                       2058\n",
              "reviews_per_month                 2058\n",
              "calculated_host_listings_count       0\n",
              "availability_365                     0\n",
              "dtype: int64"
            ]
          },
          "execution_count": 6,
          "metadata": {},
          "output_type": "execute_result"
        }
      ],
      "source": [
        "# 결측치(test)\n",
        "test.isnull().sum()"
      ]
    },
    {
      "cell_type": "code",
      "execution_count": null,
      "id": "fe8a5075",
      "metadata": {
        "id": "fe8a5075",
        "outputId": "0c697a47-53a9-4a3f-aca1-279afcd37018"
      },
      "outputs": [
        {
          "data": {
            "text/plain": [
              "<AxesSubplot:>"
            ]
          },
          "execution_count": 7,
          "metadata": {},
          "output_type": "execute_result"
        },
        {
          "data": {
            "image/png": "[encoded data removed]",
            "text/plain": [
              "<Figure size 432x288 with 1 Axes>"
            ]
          },
          "metadata": {
            "needs_background": "light"
          },
          "output_type": "display_data"
        }
      ],
      "source": [
        "# target(hist)\n",
        "train['price'].hist(bins=100)"
      ]
    },
    {
      "cell_type": "code",
      "execution_count": null,
      "id": "63c7dd05",
      "metadata": {
        "id": "63c7dd05",
        "outputId": "3c126872-3468-45ec-9bd8-18d4e2601cb8"
      },
      "outputs": [
        {
          "data": {
            "text/plain": [
              "count    39116.000000\n",
              "mean       152.751150\n",
              "std        241.752501\n",
              "min          0.000000\n",
              "25%         69.000000\n",
              "50%        105.000000\n",
              "75%        175.000000\n",
              "max      10000.000000\n",
              "Name: price, dtype: float64"
            ]
          },
          "execution_count": 8,
          "metadata": {},
          "output_type": "execute_result"
        }
      ],
      "source": [
        "# target(describe)\n",
        "train['price'].describe()"
      ]
    },
    {
      "cell_type": "markdown",
      "id": "d3b27f57",
      "metadata": {
        "id": "d3b27f57"
      },
      "source": [
        "# 3. 데이터 전처리"
      ]
    },
    {
      "cell_type": "code",
      "execution_count": null,
      "id": "842e1614",
      "metadata": {
        "id": "842e1614",
        "outputId": "f327143c-656a-4b74-ef31-a4b7e9cef631"
      },
      "outputs": [
        {
          "name": "stdout",
          "output_type": "stream",
          "text": [
            "<class 'pandas.core.frame.DataFrame'>\n",
            "RangeIndex: 39116 entries, 0 to 39115\n",
            "Data columns (total 15 columns):\n",
            " #   Column                          Non-Null Count  Dtype  \n",
            "---  ------                          --------------  -----  \n",
            " 0   id                              39116 non-null  int64  \n",
            " 1   name                            39104 non-null  object \n",
            " 2   host_id                         39116 non-null  int64  \n",
            " 3   host_name                       39099 non-null  object \n",
            " 4   neighbourhood_group             39116 non-null  object \n",
            " 5   neighbourhood                   39116 non-null  object \n",
            " 6   latitude                        39116 non-null  float64\n",
            " 7   longitude                       39116 non-null  float64\n",
            " 8   room_type                       39116 non-null  object \n",
            " 9   price                           39116 non-null  int64  \n",
            " 10  minimum_nights                  39116 non-null  int64  \n",
            " 11  number_of_reviews               39116 non-null  int64  \n",
            " 12  reviews_per_month               31122 non-null  float64\n",
            " 13  calculated_host_listings_count  39116 non-null  int64  \n",
            " 14  availability_365                39116 non-null  int64  \n",
            "dtypes: float64(3), int64(7), object(5)\n",
            "memory usage: 4.5+ MB\n",
            "<class 'pandas.core.frame.DataFrame'>\n",
            "RangeIndex: 9779 entries, 0 to 9778\n",
            "Data columns (total 14 columns):\n",
            " #   Column                          Non-Null Count  Dtype  \n",
            "---  ------                          --------------  -----  \n",
            " 0   id                              9779 non-null   int64  \n",
            " 1   name                            9775 non-null   object \n",
            " 2   host_id                         9779 non-null   int64  \n",
            " 3   host_name                       9775 non-null   object \n",
            " 4   neighbourhood_group             9779 non-null   object \n",
            " 5   neighbourhood                   9779 non-null   object \n",
            " 6   latitude                        9779 non-null   float64\n",
            " 7   longitude                       9779 non-null   float64\n",
            " 8   room_type                       9779 non-null   object \n",
            " 9   minimum_nights                  9779 non-null   int64  \n",
            " 10  number_of_reviews               9779 non-null   int64  \n",
            " 11  reviews_per_month               7721 non-null   float64\n",
            " 12  calculated_host_listings_count  9779 non-null   int64  \n",
            " 13  availability_365                9779 non-null   int64  \n",
            "dtypes: float64(3), int64(6), object(5)\n",
            "memory usage: 1.0+ MB\n"
          ]
        },
        {
          "data": {
            "text/plain": [
              "(None, None)"
            ]
          },
          "execution_count": 9,
          "metadata": {},
          "output_type": "execute_result"
        }
      ],
      "source": [
        "# 결측치 컬럼 삭제(last_review)\n",
        "train.drop('last_review',axis=1,inplace=True)\n",
        "test.drop('last_review',axis=1,inplace=True) \n",
        "\n",
        "train.info() , test.info()"
      ]
    },
    {
      "cell_type": "code",
      "execution_count": null,
      "id": "c0fa6667",
      "metadata": {
        "id": "c0fa6667",
        "outputId": "0f00c307-0095-4862-fa72-6cc8dabfc344"
      },
      "outputs": [
        {
          "name": "stdout",
          "output_type": "stream",
          "text": [
            "<class 'pandas.core.frame.DataFrame'>\n",
            "RangeIndex: 39116 entries, 0 to 39115\n",
            "Data columns (total 15 columns):\n",
            " #   Column                          Non-Null Count  Dtype  \n",
            "---  ------                          --------------  -----  \n",
            " 0   id                              39116 non-null  int64  \n",
            " 1   name                            39116 non-null  object \n",
            " 2   host_id                         39116 non-null  int64  \n",
            " 3   host_name                       39116 non-null  object \n",
            " 4   neighbourhood_group             39116 non-null  object \n",
            " 5   neighbourhood                   39116 non-null  object \n",
            " 6   latitude                        39116 non-null  float64\n",
            " 7   longitude                       39116 non-null  float64\n",
            " 8   room_type                       39116 non-null  object \n",
            " 9   price                           39116 non-null  int64  \n",
            " 10  minimum_nights                  39116 non-null  int64  \n",
            " 11  number_of_reviews               39116 non-null  int64  \n",
            " 12  reviews_per_month               39116 non-null  float64\n",
            " 13  calculated_host_listings_count  39116 non-null  int64  \n",
            " 14  availability_365                39116 non-null  int64  \n",
            "dtypes: float64(3), int64(7), object(5)\n",
            "memory usage: 4.5+ MB\n",
            "<class 'pandas.core.frame.DataFrame'>\n",
            "RangeIndex: 9779 entries, 0 to 9778\n",
            "Data columns (total 14 columns):\n",
            " #   Column                          Non-Null Count  Dtype  \n",
            "---  ------                          --------------  -----  \n",
            " 0   id                              9779 non-null   int64  \n",
            " 1   name                            9779 non-null   object \n",
            " 2   host_id                         9779 non-null   int64  \n",
            " 3   host_name                       9779 non-null   object \n",
            " 4   neighbourhood_group             9779 non-null   object \n",
            " 5   neighbourhood                   9779 non-null   object \n",
            " 6   latitude                        9779 non-null   float64\n",
            " 7   longitude                       9779 non-null   float64\n",
            " 8   room_type                       9779 non-null   object \n",
            " 9   minimum_nights                  9779 non-null   int64  \n",
            " 10  number_of_reviews               9779 non-null   int64  \n",
            " 11  reviews_per_month               9779 non-null   float64\n",
            " 12  calculated_host_listings_count  9779 non-null   int64  \n",
            " 13  availability_365                9779 non-null   int64  \n",
            "dtypes: float64(3), int64(6), object(5)\n",
            "memory usage: 1.0+ MB\n"
          ]
        },
        {
          "data": {
            "text/plain": [
              "(None, None)"
            ]
          },
          "execution_count": 10,
          "metadata": {},
          "output_type": "execute_result"
        }
      ],
      "source": [
        "# 결측치 채우기 (minimum_nights)\n",
        "train = train.fillna(method='ffill')\n",
        "test = test.fillna(method='ffill')\n",
        "train.info() , test.info()"
      ]
    },
    {
      "cell_type": "code",
      "execution_count": null,
      "id": "3752b98e",
      "metadata": {
        "id": "3752b98e"
      },
      "outputs": [],
      "source": [
        "# 가격 값 복사\n",
        "target = train[['price']]\n",
        "feature = train.drop('price',axis =1 )"
      ]
    },
    {
      "cell_type": "code",
      "execution_count": null,
      "id": "80b3ef8e",
      "metadata": {
        "id": "80b3ef8e",
        "outputId": "bd09c7a7-0bf3-4779-d10e-d568f21df74f"
      },
      "outputs": [
        {
          "name": "stdout",
          "output_type": "stream",
          "text": [
            "<class 'pandas.core.frame.DataFrame'>\n",
            "RangeIndex: 39116 entries, 0 to 39115\n",
            "Data columns (total 8 columns):\n",
            " #   Column                          Non-Null Count  Dtype  \n",
            "---  ------                          --------------  -----  \n",
            " 0   host_id                         39116 non-null  int64  \n",
            " 1   latitude                        39116 non-null  float64\n",
            " 2   longitude                       39116 non-null  float64\n",
            " 3   minimum_nights                  39116 non-null  int64  \n",
            " 4   number_of_reviews               39116 non-null  int64  \n",
            " 5   reviews_per_month               39116 non-null  float64\n",
            " 6   calculated_host_listings_count  39116 non-null  int64  \n",
            " 7   availability_365                39116 non-null  int64  \n",
            "dtypes: float64(3), int64(5)\n",
            "memory usage: 2.4 MB\n",
            "<class 'pandas.core.frame.DataFrame'>\n",
            "RangeIndex: 9779 entries, 0 to 9778\n",
            "Data columns (total 8 columns):\n",
            " #   Column                          Non-Null Count  Dtype  \n",
            "---  ------                          --------------  -----  \n",
            " 0   host_id                         9779 non-null   int64  \n",
            " 1   latitude                        9779 non-null   float64\n",
            " 2   longitude                       9779 non-null   float64\n",
            " 3   minimum_nights                  9779 non-null   int64  \n",
            " 4   number_of_reviews               9779 non-null   int64  \n",
            " 5   reviews_per_month               9779 non-null   float64\n",
            " 6   calculated_host_listings_count  9779 non-null   int64  \n",
            " 7   availability_365                9779 non-null   int64  \n",
            "dtypes: float64(3), int64(5)\n",
            "memory usage: 611.3 KB\n"
          ]
        },
        {
          "data": {
            "text/plain": [
              "(None, None)"
            ]
          },
          "execution_count": 13,
          "metadata": {},
          "output_type": "execute_result"
        }
      ],
      "source": [
        "# 수치형 피처 선택\n",
        "import numpy as np\n",
        "temp = feature.select_dtypes(include=np.number).columns.tolist()\n",
        "\n",
        "feature = feature[temp]\n",
        "test = test[temp]\n",
        "\n",
        "# feature.drop('id',axis=1,inplace=True)\n",
        "# test.drop('id',axis=1,inplace=True)\n",
        "\n",
        "len(feature.columns) , len(test.columns)\n",
        "\n",
        "feature.info() , test.info()"
      ]
    },
    {
      "cell_type": "markdown",
      "id": "e47b1479",
      "metadata": {
        "id": "e47b1479"
      },
      "source": [
        "# 4. 검증 데이터 분리"
      ]
    },
    {
      "cell_type": "code",
      "execution_count": null,
      "id": "7790eed5",
      "metadata": {
        "id": "7790eed5",
        "outputId": "06cb14d8-28f3-45ad-bd63-835f888770b7"
      },
      "outputs": [
        {
          "name": "stderr",
          "output_type": "stream",
          "text": [
            "/opt/conda/lib/python3.9/site-packages/pkg_resources/__init__.py:122: PkgResourcesDeprecationWarning: 0.996-ko-0.9.2 is an invalid version and will not be supported in a future release\n",
            "  warnings.warn(\n"
          ]
        },
        {
          "data": {
            "text/plain": [
              "(31292, 7824)"
            ]
          },
          "execution_count": 14,
          "metadata": {},
          "output_type": "execute_result"
        }
      ],
      "source": [
        "# 라이브러리 임포트 \n",
        "from sklearn.model_selection import train_test_split\n",
        "from sklearn.linear_model import LinearRegression , Ridge , Lasso , ElasticNet\n",
        "from sklearn.ensemble import RandomForestRegressor \n",
        "from xgboost import XGBRegressor\n",
        "\n",
        "# 정규화 (Standard)\n",
        "from sklearn.preprocessing import StandardScaler\n",
        "scaler = StandardScaler()\n",
        "\n",
        "## test 와 feature 가 분리 되어 있는 경우 아래와 같이 정규화 한다. \n",
        "# feaure scaling\n",
        "scaler.fit(feature)\n",
        "feature_scaled = scaler.transform(feature)\n",
        "\n",
        "# test scaling\n",
        "test_scaled = scaler.transform(test)\n",
        "\n",
        "# 편의상 데이타 프레임으로 변환 \n",
        "feature_scaled = pd.DataFrame(feature_scaled , columns=feature.columns)\n",
        "test_scale = pd.DataFrame(test_scaled , columns=test.columns)\n",
        "\n",
        "\n",
        "# target 스케일링 (로그 변환 , price 분포 왜곡도를 조정함.)\n",
        "target = np.log1p(target)\n",
        "\n",
        "# feature 셋에서 학습용 데이터 분리 \n",
        "X_train , X_test, y_train , y_test = train_test_split(feature_scaled , target , test_size = 0.2 , random_state =1114 )\n",
        "\n",
        "len(X_train), len(X_test) "
      ]
    },
    {
      "cell_type": "markdown",
      "id": "ae832b38",
      "metadata": {
        "id": "ae832b38"
      },
      "source": [
        "# 5. 머신러닝"
      ]
    },
    {
      "cell_type": "code",
      "execution_count": null,
      "id": "32f5dac6",
      "metadata": {
        "id": "32f5dac6",
        "outputId": "e3e7112a-67c7-4a2e-9a50-7cf97e728643"
      },
      "outputs": [
        {
          "name": "stdout",
          "output_type": "stream",
          "text": [
            "MSE : 13384.665804362548 , RMSE : 115.69211643133922\n",
            "R2 Score : -28194.683807140897\n"
          ]
        }
      ],
      "source": [
        "from sklearn.metrics import mean_squared_error , r2_score\n",
        "\n",
        "# LinearRegression 모델 빌드\n",
        "model_lr = LinearRegression()\n",
        "model_lr.fit(X_train , y_train)\n",
        "\n",
        "# 예측\n",
        "pred_lr = model_lr.predict(X_test)\n",
        "pred_lr = np.expm1(pred_lr)\n",
        "\n",
        "# 평가\n",
        "mse = mean_squared_error(y_test,pred_lr)\n",
        "rmse = np.sqrt(mse)\n",
        "r2 = r2_score(y_test , pred_lr)\n",
        "\n",
        "print(f'MSE : {mse} , RMSE : {rmse}')\n",
        "print(f'R2 Score : {r2}')"
      ]
    },
    {
      "cell_type": "code",
      "execution_count": null,
      "id": "4344226e",
      "metadata": {
        "id": "4344226e",
        "outputId": "69016faf-7947-4ae5-ecfe-41d91c2bf0c0"
      },
      "outputs": [
        {
          "name": "stdout",
          "output_type": "stream",
          "text": [
            "MSE : 13384.611492712096 , RMSE : 115.6918817061599\n",
            "R2 Score : -28194.56939605693\n"
          ]
        }
      ],
      "source": [
        "# 릿지 회귀\n",
        "model_r = Ridge(alpha = 0.5 )\n",
        "model_r.fit(X_train , y_train)\n",
        "\n",
        "# 예측\n",
        "pred_r = model_r.predict(X_test)\n",
        "pred_r = np.expm1(pred_r)\n",
        "\n",
        "# 평가\n",
        "mse = mean_squared_error(y_test,pred_r)\n",
        "rmse = np.sqrt(mse)\n",
        "r2 = r2_score(y_test , pred_r)\n",
        "\n",
        "print(f'MSE : {mse} , RMSE : {rmse}')\n",
        "print(f'R2 Score : {r2}')"
      ]
    },
    {
      "cell_type": "code",
      "execution_count": null,
      "id": "2dbf48c4",
      "metadata": {
        "id": "2dbf48c4",
        "outputId": "ef18a00e-ac19-4825-83db-8d24196ea325"
      },
      "outputs": [
        {
          "name": "stdout",
          "output_type": "stream",
          "text": [
            "MSE : 11796.680503751697 , RMSE : 108.61252461733729\n",
            "R2 Score : -24849.487738680407\n"
          ]
        }
      ],
      "source": [
        "# 라쏘 회귀\n",
        "model_la = Lasso(alpha = 0.5)\n",
        "model_la.fit(X_train , y_train)\n",
        "\n",
        "# 예측\n",
        "pred_la = model_la.predict(X_test)\n",
        "pred_la = np.expm1(pred_la)\n",
        "\n",
        "# 평가\n",
        "mse = mean_squared_error(y_test,pred_la)\n",
        "rmse = np.sqrt(mse)\n",
        "r2 = r2_score(y_test , pred_la)\n",
        "\n",
        "print(f'MSE : {mse} , RMSE : {rmse}')\n",
        "print(f'R2 Score : {r2}')"
      ]
    },
    {
      "cell_type": "code",
      "execution_count": null,
      "id": "c182c240",
      "metadata": {
        "id": "c182c240",
        "outputId": "6cc15cc8-e8db-42f1-9343-9be2b129e116"
      },
      "outputs": [
        {
          "name": "stdout",
          "output_type": "stream",
          "text": [
            "MSE : 13325.535555540162 , RMSE : 115.43628353139303\n",
            "R2 Score : -28070.12202699617\n"
          ]
        }
      ],
      "source": [
        "#  ElasticNet 회귀\n",
        "model_en = ElasticNet(alpha =0.01 , l1_ratio = 0.1 )\n",
        "model_en.fit(X_train , y_train)\n",
        "\n",
        "# 예측\n",
        "pred_en = model_en.predict(X_test)\n",
        "pred_en = np.expm1(pred_en)\n",
        "\n",
        "# 평가\n",
        "mse = mean_squared_error(y_test,pred_en)\n",
        "rmse = np.sqrt(mse)\n",
        "r2 = r2_score(y_test , pred_en)\n",
        "\n",
        "print(f'MSE : {mse} , RMSE : {rmse}')\n",
        "print(f'R2 Score : {r2}')"
      ]
    },
    {
      "cell_type": "code",
      "execution_count": null,
      "id": "c0a95f4f",
      "metadata": {
        "id": "c0a95f4f",
        "outputId": "54005dfc-d225-4110-8cd3-a7eff557edf3"
      },
      "outputs": [
        {
          "name": "stderr",
          "output_type": "stream",
          "text": [
            "/tmp/ipykernel_40/1209765629.py:3: DataConversionWarning: A column-vector y was passed when a 1d array was expected. Please change the shape of y to (n_samples,), for example using ravel().\n",
            "  model_rfr.fit(X_train , y_train)\n"
          ]
        },
        {
          "name": "stdout",
          "output_type": "stream",
          "text": [
            "MSE : 15551.85045547295 , RMSE : 124.7070585631501\n",
            "R2 Score : -32760.00161690507\n"
          ]
        }
      ],
      "source": [
        "# 랜덤포레스트\n",
        "model_rfr = RandomForestRegressor(n_estimators = 500 , max_depth = 5)\n",
        "model_rfr.fit(X_train , y_train)\n",
        "# 예측 적용\n",
        "pred_rfr = model_rfr.predict(X_test) \n",
        "pred_rfr = np.expm1(pred_rfr)\n",
        "\n",
        "# 평가\n",
        "mse = mean_squared_error(y_test,pred_rfr)\n",
        "rmse = np.sqrt(mse)\n",
        "r2 = r2_score(y_test , pred_rfr)\n",
        "\n",
        "print(f'MSE : {mse} , RMSE : {rmse}')\n",
        "print(f'R2 Score : {r2}')"
      ]
    },
    {
      "cell_type": "code",
      "execution_count": null,
      "id": "cefe0146",
      "metadata": {
        "id": "cefe0146",
        "outputId": "2a6f314a-b2e5-4a1d-95bd-5133a1c938a3"
      },
      "outputs": [
        {
          "name": "stdout",
          "output_type": "stream",
          "text": [
            "MSE : 19032.068844360063 , RMSE : 137.9567644023303\n",
            "R2 Score : -40091.31184213871\n"
          ]
        }
      ],
      "source": [
        "# Xgboost\n",
        "model_xgb = XGBRegressor(n_estimators = 500 , max_depth = 5 , learning_rate =0.1)\n",
        "model_xgb.fit(X_train , y_train)\n",
        "\n",
        "# 예측 적용\n",
        "pred_xgb = model_xgb.predict(X_test) \n",
        "pred_xgb = np.expm1(pred_xgb)\n",
        "\n",
        "# 평가\n",
        "mse = mean_squared_error(y_test,pred_xgb)\n",
        "rmse = np.sqrt(mse)\n",
        "r2 = r2_score(y_test , pred_xgb)\n",
        "\n",
        "print(f'MSE : {mse} , RMSE : {rmse}')\n",
        "print(f'R2 Score : {r2}')"
      ]
    },
    {
      "cell_type": "markdown",
      "id": "234a49bb",
      "metadata": {
        "id": "234a49bb"
      },
      "source": [
        "# 6. 채점"
      ]
    },
    {
      "cell_type": "code",
      "execution_count": null,
      "id": "edc81324",
      "metadata": {
        "id": "edc81324",
        "outputId": "239b38fa-0d4f-429e-b339-c704e87ccffe"
      },
      "outputs": [
        {
          "data": {
            "text/plain": [
              "46956.92770742738"
            ]
          },
          "execution_count": 21,
          "metadata": {},
          "output_type": "execute_result"
        }
      ],
      "source": [
        "# test 데이터 예측 및 평가\n",
        "y_test = pd.read_csv('/aiffel/data/y_test.csv')\n",
        "y_test\n",
        "\n",
        "# # Xgboost\n",
        "pred = model_xgb.predict(test_scale)\n",
        "pred = np.expm1(pred)\n",
        "\n",
        "mean_squared_error(y_test, pred)"
      ]
    },
    {
      "cell_type": "code",
      "execution_count": null,
      "id": "34717fb7",
      "metadata": {
        "id": "34717fb7",
        "outputId": "33bcd1b7-72fc-4fd7-9d52-d17ca68ef3aa"
      },
      "outputs": [
        {
          "name": "stdout",
          "output_type": "stream",
          "text": [
            "나의 점수는 ( 46956.928)입니다.\n"
          ]
        }
      ],
      "source": [
        "# baseline score(mse 51xxx) 보다 점수가 낮게 나오도록 도전해 보세요! \n",
        "print(f\"나의 점수는 ({mean_squared_error(y_test, pred): .3f})입니다.\")"
      ]
    },
    {
      "cell_type": "code",
      "execution_count": null,
      "id": "43b2590c",
      "metadata": {
        "id": "43b2590c",
        "outputId": "c41a5b07-5351-4fa6-8820-e22e0dd6d513"
      },
      "outputs": [
        {
          "data": {
            "text/plain": [
              "<AxesSubplot:>"
            ]
          },
          "execution_count": 24,
          "metadata": {},
          "output_type": "execute_result"
        },
        {
          "data": {
            "image/png": "[encoded data removed]",
            "text/plain": [
              "<Figure size 432x288 with 1 Axes>"
            ]
          },
          "metadata": {
            "needs_background": "light"
          },
          "output_type": "display_data"
        }
      ],
      "source": [
        "import seaborn as sns \n",
        "series = pd.Series(data= model_xgb.feature_importances_ , index = X_train.columns)\n",
        "series = series.sort_values(ascending = False)\n",
        "sns.barplot(x=series , y=series.index)"
      ]
    }
  ],
  "metadata": {
    "kernelspec": {
      "display_name": "Python 3 (ipykernel)",
      "language": "python",
      "name": "python3"
    },
    "language_info": {
      "codemirror_mode": {
        "name": "ipython",
        "version": 3
      },
      "file_extension": ".py",
      "mimetype": "text/x-python",
      "name": "python",
      "nbconvert_exporter": "python",
      "pygments_lexer": "ipython3",
      "version": "3.9.7"
    },
    "colab": {
      "provenance": [],
      "include_colab_link": true
    }
  },
  "nbformat": 4,
  "nbformat_minor": 5
}