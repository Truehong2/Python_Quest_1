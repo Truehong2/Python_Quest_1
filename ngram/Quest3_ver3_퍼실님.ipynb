{
  "nbformat": 4,
  "nbformat_minor": 0,
  "metadata": {
    "colab": {
      "provenance": [],
      "mount_file_id": "15DqD-ztgc8WAUQjltTC43Mhoq2BqI2Z3",
      "authorship_tag": "ABX9TyPEmthe6rxEZTlJAlmw1blW",
      "include_colab_link": true
    },
    "kernelspec": {
      "name": "python3",
      "display_name": "Python 3"
    },
    "language_info": {
      "name": "python"
    }
  },
  "cells": [
    {
      "cell_type": "markdown",
      "metadata": {
        "id": "view-in-github",
        "colab_type": "text"
      },
      "source": [
        "<a href=\"https://colab.research.google.com/github/parkmicheal1114/Python_Quest/blob/main/ngram/Quest3_ver3_%ED%8D%BC%EC%8B%A4%EB%8B%98.ipynb\" target=\"_parent\"><img src=\"https://colab.research.google.com/assets/colab-badge.svg\" alt=\"Open In Colab\"/></a>"
      ]
    },
    {
      "cell_type": "markdown",
      "source": [
        "[파이썬] 퀘스트: Avengers 2-gram\n",
        "\n",
        "난이도: ★★★☆☆\n",
        "\n",
        "장르: 내장함수 String, Collections, n-gram\n",
        "\n",
        "---\n",
        "* N-gram이란? : https://dojang.io/mod/page/view.php?id=2332\n",
        "\n",
        "다음 조건을 확인하여\n",
        "Avengers Script에서 워드 단위의 2-gram을 구하고, \n",
        "Script에서 가장 빈도가 높은 2-gram 페어를 찾아라!\n",
        "\n",
        "조건:\n",
        "1. 06TheAvengers.txt 파일을 사용한다.\n",
        "2. 모든 문자는 소문자로 변환한다.\n",
        "3. 모든 기호는 제거한 후, 2-gram을 구한다.\n",
        "4. \"I am hungry.....very much...\"를 word 단위로 자르면,[ 'i', 'am', 'hungry', 'very', 'much'] 가 되어야 한다.\n",
        "\n",
        "---\n",
        "\n",
        "입력값 :\n",
        "\n",
        "\"06TheAvengers.txt\" 파일을 입력값으로 넣는다.\n",
        "\n",
        "print(max2gram, countdict[max2gram])\n",
        "print(Counter(baglist))\n",
        "\n",
        "출력값 :\n",
        "\n",
        "('it', 's') 68\n",
        "Counter({('it', 's'): 68, ('i', 'm'): 52, ('don', 't'): 43, ..."
      ],
      "metadata": {
        "id": "XkrKk6L1neP1"
      }
    },
    {
      "cell_type": "code",
      "execution_count": 2,
      "metadata": {
        "id": "usWhtNBenUr3",
        "colab": {
          "base_uri": "https://localhost:8080/"
        },
        "outputId": "bfa84d35-411f-4da7-e595-99a87aa9b04f"
      },
      "outputs": [
        {
          "output_type": "stream",
          "name": "stdout",
          "text": [
            "1545\n"
          ]
        }
      ],
      "source": [
        "# 소문자 lower()\n",
        "# from collections import Counter\n",
        "# 파일 불러오기 \n",
        "with open('/content/drive/MyDrive/Colab Notebooks/06TheAvengers.txt','r') as f:\n",
        "  data = f.readlines()\n",
        "\n",
        "print(len(data))"
      ]
    },
    {
      "cell_type": "code",
      "source": [
        "# Counter , string 임포트 하기\n",
        "from collections import Counter\n",
        "import string\n"
      ],
      "metadata": {
        "id": "uhjSvCa2nncH"
      },
      "execution_count": 17,
      "outputs": []
    },
    {
      "cell_type": "code",
      "source": [
        "bigram_list = []\n",
        "\n",
        "switch = ''\n",
        "for i in range(len(string.punctuation)):\n",
        "    switch = switch + ' '\n",
        "\n",
        "table = str.maketrans(string.punctuation, switch)\n",
        "\n",
        "for sen in data:\n",
        "    sen = sen.replace('\\n', ' ')\n",
        "    sen = sen.lower()\n",
        "    sen = sen.translate(table)\n",
        "    splited_sen = sen.split()\n",
        "    bigram_list += list(zip(splited_sen, splited_sen[1:]))"
      ],
      "metadata": {
        "id": "OiRgWHjontdy"
      },
      "execution_count": 18,
      "outputs": []
    },
    {
      "cell_type": "code",
      "source": [
        "table"
      ],
      "metadata": {
        "id": "kpGVkzX-95nR"
      },
      "execution_count": null,
      "outputs": []
    },
    {
      "cell_type": "code",
      "source": [
        "bigram_dict = {}\n",
        "\n",
        "for i, bigram in enumerate(bigram_list):\n",
        "  bigram_dict[i] = bigram"
      ],
      "metadata": {
        "id": "Y7t9b2mm1IeI"
      },
      "execution_count": 23,
      "outputs": []
    },
    {
      "cell_type": "code",
      "source": [
        "bigram_dict"
      ],
      "metadata": {
        "id": "Fa0yGXze1NdS"
      },
      "execution_count": null,
      "outputs": []
    },
    {
      "cell_type": "code",
      "source": [
        "most_common = Counter(bigram_dict.values()).most_common(10)"
      ],
      "metadata": {
        "id": "aWpIrD0L1WTT"
      },
      "execution_count": 35,
      "outputs": []
    },
    {
      "cell_type": "code",
      "source": [
        "most_common"
      ],
      "metadata": {
        "colab": {
          "base_uri": "https://localhost:8080/"
        },
        "id": "0DEttRb_1YQ1",
        "outputId": "d87a1a24-311f-45c1-d2fa-7ab2938d550b"
      },
      "execution_count": 36,
      "outputs": [
        {
          "output_type": "execute_result",
          "data": {
            "text/plain": [
              "[(('it', 's'), 68),\n",
              " (('i', 'm'), 52),\n",
              " (('don', 't'), 43),\n",
              " (('you', 're'), 35),\n",
              " (('the', 'tesseract'), 33),\n",
              " (('he', 's'), 32),\n",
              " (('didn', 't'), 26),\n",
              " (('that', 's'), 25),\n",
              " (('on', 'the'), 25),\n",
              " (('we', 're'), 25)]"
            ]
          },
          "metadata": {},
          "execution_count": 36
        }
      ]
    }
  ]
}