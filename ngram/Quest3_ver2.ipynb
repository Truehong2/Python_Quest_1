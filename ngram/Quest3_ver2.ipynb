{
  "nbformat": 4,
  "nbformat_minor": 0,
  "metadata": {
    "colab": {
      "provenance": [],
      "mount_file_id": "1xOp9fdjbv32xDM-H5orjzJbYCMqiZaQG",
      "authorship_tag": "ABX9TyMvLuEu6/9WejHpR+rzB+ef",
      "include_colab_link": true
    },
    "kernelspec": {
      "name": "python3",
      "display_name": "Python 3"
    },
    "language_info": {
      "name": "python"
    }
  },
  "cells": [
    {
      "cell_type": "markdown",
      "metadata": {
        "id": "view-in-github",
        "colab_type": "text"
      },
      "source": [
        "<a href=\"https://colab.research.google.com/github/parkmicheal1114/Modu_Quest/blob/main/ngram/Quest3_ver2.ipynb\" target=\"_parent\"><img src=\"https://colab.research.google.com/assets/colab-badge.svg\" alt=\"Open In Colab\"/></a>"
      ]
    },
    {
      "cell_type": "markdown",
      "source": [
        "[파이썬] 퀘스트: Avengers 2-gram\n",
        "\n",
        "난이도: ★★★☆☆\n",
        "\n",
        "장르: 내장함수 String, Collections, n-gram\n",
        "\n",
        "---\n",
        "* N-gram이란? : https://dojang.io/mod/page/view.php?id=2332\n",
        "\n",
        "다음 조건을 확인하여\n",
        "Avengers Script에서 워드 단위의 2-gram을 구하고, \n",
        "Script에서 가장 빈도가 높은 2-gram 페어를 찾아라!\n",
        "\n",
        "조건:\n",
        "1. 06TheAvengers.txt 파일을 사용한다.\n",
        "2. 모든 문자는 소문자로 변환한다.\n",
        "3. 모든 기호는 제거한 후, 2-gram을 구한다.\n",
        "4. \"I am hungry.....very much...\"를 word 단위로 자르면,[ 'i', 'am', 'hungry', 'very', 'much'] 가 되어야 한다.\n",
        "\n",
        "---\n",
        "\n",
        "입력값 :\n",
        "\n",
        "\"06TheAvengers.txt\" 파일을 입력값으로 넣는다.\n",
        "\n",
        "print(max2gram, countdict[max2gram])\n",
        "print(Counter(baglist))\n",
        "\n",
        "출력값 :\n",
        "\n",
        "('it', 's') 68\n",
        "Counter({('it', 's'): 68, ('i', 'm'): 52, ('don', 't'): 43, ..."
      ],
      "metadata": {
        "id": "XkrKk6L1neP1"
      }
    },
    {
      "cell_type": "code",
      "execution_count": null,
      "metadata": {
        "id": "usWhtNBenUr3",
        "colab": {
          "base_uri": "https://localhost:8080/"
        },
        "outputId": "1e1624d1-ce76-4998-9691-9f14287914f5"
      },
      "outputs": [
        {
          "output_type": "stream",
          "name": "stdout",
          "text": [
            "52014\n"
          ]
        }
      ],
      "source": [
        "# 소문자 lower()\n",
        "# from collections import Counter\n",
        "# 파일 불러오기 \n",
        "with open('/content/drive/MyDrive/Colab Notebooks/06TheAvengers.txt','r') as f:\n",
        "  data = f.read()\n",
        "\n",
        "print(len(data))"
      ]
    },
    {
      "cell_type": "code",
      "source": [
        "# Counter 임포트 하기\n",
        "from collections import Counter"
      ],
      "metadata": {
        "id": "uhjSvCa2nncH"
      },
      "execution_count": null,
      "outputs": []
    },
    {
      "cell_type": "code",
      "source": [
        "# 소문자 변화하기 \n",
        "data_lower = data.lower()"
      ],
      "metadata": {
        "id": "CVFX0kNgnpht"
      },
      "execution_count": null,
      "outputs": []
    },
    {
      "cell_type": "code",
      "source": [
        "# 특수 문자 제거\n",
        "remove_chars = [\",\", \"-\", \".\", \"\\n\", \"'\", \"?\", \"!\" , \"/ \"]\n",
        "for char in remove_chars:\n",
        "    data_lower = data_lower.replace(char, \"\")\n"
      ],
      "metadata": {
        "id": "OiRgWHjontdy"
      },
      "execution_count": null,
      "outputs": []
    },
    {
      "cell_type": "code",
      "source": [
        "# 단어 단위로 자르기.\n",
        "word2= data_lower.split()\n",
        "# ngram 생성.\n",
        "gram_2 = [word2[i]+\" \"+word2[i+1] for i in range(len(word2)-1)]"
      ],
      "metadata": {
        "id": "yiNgMSNUzGTP"
      },
      "execution_count": null,
      "outputs": []
    },
    {
      "cell_type": "code",
      "source": [
        "# 전체 2gram 현황 \n",
        "print(Counter(gram_2))"
      ],
      "metadata": {
        "id": "Lg0VUYf5z2AT"
      },
      "execution_count": null,
      "outputs": []
    },
    {
      "cell_type": "code",
      "source": [
        "# 가장 많이 나온 2gram 단어 \n",
        "dict_2gram = dict(Counter(gram_2))\n",
        "max2gram = max(dict_2gram,key = dict_2gram.get)\n",
        "max2gram_word = max(dict_2gram.values())\n",
        "\n",
        "print(max2gram , max2gram_word)"
      ],
      "metadata": {
        "colab": {
          "base_uri": "https://localhost:8080/"
        },
        "id": "mQluNTuf86u3",
        "outputId": "7490b122-1ec0-478b-91a9-5e679a7e1d0d"
      },
      "execution_count": null,
      "outputs": [
        {
          "output_type": "execute_result",
          "data": {
            "text/plain": [
              "('it s', 68)"
            ]
          },
          "metadata": {},
          "execution_count": 33
        }
      ]
    },
    {
      "cell_type": "code",
      "source": [
        "# 상위 20 개의 2gram 단어\n",
        "top20_2gram = dict(Counter(gram_2).most_common(20))\n",
        "print(top20_2gram)"
      ],
      "metadata": {
        "colab": {
          "base_uri": "https://localhost:8080/"
        },
        "id": "UM2kB0GQ-Tgg",
        "outputId": "759b8948-20d2-49e4-f54a-d3e8cdb6e444"
      },
      "execution_count": null,
      "outputs": [
        {
          "output_type": "stream",
          "name": "stdout",
          "text": [
            "{'it s': 68, 'i m': 52, 'don t': 43, 'you re': 35, 'the tesseract': 34, 'he s': 32, 'didn t': 26, 'that s': 25, 'on the': 25, 'we re': 25, 'in the': 24, 'i don': 22, 'are you': 20, 'this is': 20, 'you know': 20, 'can t': 19, 'to be': 17, 'i ve': 16, 'do you': 16, 's a': 16}\n"
          ]
        }
      ]
    },
    {
      "cell_type": "markdown",
      "source": [
        "## 나름 정리\n",
        "\n",
        "- 가장 많이 나온 단어는 : \n",
        "  \n",
        "  - 'it s'로  68번 작성 됨.\n",
        "\n",
        "- 상위 20개 의 단어를 확인 하니 주어 와 부정문 등이 주로 등장 했다.\n",
        "\n",
        "- 그 뒤로 , 'on the' , ' in the ' 등이 주로 등장 했습니다.\n"
      ],
      "metadata": {
        "id": "feKovoGBAvJ3"
      }
    }
  ]
}