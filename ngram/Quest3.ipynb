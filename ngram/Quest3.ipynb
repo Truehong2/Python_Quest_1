{
  "nbformat": 4,
  "nbformat_minor": 0,
  "metadata": {
    "colab": {
      "provenance": [],
      "authorship_tag": "ABX9TyP0uqa5KuJxr28OzhJCzE6j",
      "include_colab_link": true
    },
    "kernelspec": {
      "name": "python3",
      "display_name": "Python 3"
    },
    "language_info": {
      "name": "python"
    }
  },
  "cells": [
    {
      "cell_type": "markdown",
      "metadata": {
        "id": "view-in-github",
        "colab_type": "text"
      },
      "source": [
        "<a href=\"https://colab.research.google.com/github/parkmicheal1114/Modu_Quest/blob/main/ngram/Quest3.ipynb\" target=\"_parent\"><img src=\"https://colab.research.google.com/assets/colab-badge.svg\" alt=\"Open In Colab\"/></a>"
      ]
    },
    {
      "cell_type": "markdown",
      "source": [
        "[파이썬] 퀘스트: Avengers 2-gram\n",
        "\n",
        "난이도: ★★★☆☆\n",
        "\n",
        "장르: 내장함수 String, Collections, n-gram\n",
        "\n",
        "---\n",
        "* N-gram이란? : https://dojang.io/mod/page/view.php?id=2332\n",
        "\n",
        "다음 조건을 확인하여\n",
        "Avengers Script에서 워드 단위의 2-gram을 구하고, \n",
        "Script에서 가장 빈도가 높은 2-gram 페어를 찾아라!\n",
        "\n",
        "조건:\n",
        "1. 06TheAvengers.txt 파일을 사용한다.\n",
        "2. 모든 문자는 소문자로 변환한다.\n",
        "3. 모든 기호는 제거한 후, 2-gram을 구한다.\n",
        "4. \"I am hungry.....very much...\"를 word 단위로 자르면,[ 'i', 'am', 'hungry', 'very', 'much'] 가 되어야 한다.\n",
        "\n",
        "---\n",
        "\n",
        "입력값 :\n",
        "\n",
        "\"06TheAvengers.txt\" 파일을 입력값으로 넣는다.\n",
        "\n",
        "print(max2gram, countdict[max2gram])\n",
        "print(Counter(baglist))\n",
        "\n",
        "출력값 :\n",
        "\n",
        "('it', 's') 68\n",
        "Counter({('it', 's'): 68, ('i', 'm'): 52, ('don', 't'): 43, ..."
      ],
      "metadata": {
        "id": "XkrKk6L1neP1"
      }
    },
    {
      "cell_type": "code",
      "execution_count": null,
      "metadata": {
        "id": "usWhtNBenUr3"
      },
      "outputs": [],
      "source": [
        "# 소문자 lower()\n",
        "# from collections import Counter\n",
        "# 파일 불러오기 \n",
        "with open('/content/drive/MyDrive/Colab Notebooks/06TheAvengers.txt','r') as f:\n",
        "  data = f.read()\n",
        "\n",
        "print(len(data))"
      ]
    },
    {
      "cell_type": "code",
      "source": [
        "# Counter 임포트 하기\n",
        "from collections import Counter"
      ],
      "metadata": {
        "id": "uhjSvCa2nncH"
      },
      "execution_count": null,
      "outputs": []
    },
    {
      "cell_type": "code",
      "source": [
        "# 소문자 변화하기 \n",
        "data_lower = data.lower()\n",
        "data_lower"
      ],
      "metadata": {
        "id": "CVFX0kNgnpht"
      },
      "execution_count": null,
      "outputs": []
    },
    {
      "cell_type": "code",
      "source": [
        "\n",
        "# remove_char = [\",\",\"-\",\".\",\"\\n\",\"...\",\"?\",\"!\"]\n",
        "\n",
        "\n",
        "# for char in remove_char:\n",
        "#   data_reform = data_lower.replace(char,\" \")"
      ],
      "metadata": {
        "id": "OiRgWHjontdy"
      },
      "execution_count": null,
      "outputs": []
    }
  ]
}