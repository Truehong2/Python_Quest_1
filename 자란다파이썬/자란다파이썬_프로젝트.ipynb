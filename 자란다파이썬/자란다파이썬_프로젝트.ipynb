{
  "nbformat": 4,
  "nbformat_minor": 0,
  "metadata": {
    "colab": {
      "provenance": [],
      "authorship_tag": "ABX9TyNqo/qVVXOYw9t0ZsExTU/B",
      "include_colab_link": true
    },
    "kernelspec": {
      "name": "python3",
      "display_name": "Python 3"
    },
    "language_info": {
      "name": "python"
    }
  },
  "cells": [
    {
      "cell_type": "markdown",
      "metadata": {
        "id": "view-in-github",
        "colab_type": "text"
      },
      "source": [
        "<a href=\"https://colab.research.google.com/github/parkmicheal1114/Python_Quest/blob/main/%EC%9E%90%EB%9E%80%EB%8B%A4%ED%8C%8C%EC%9D%B4%EC%8D%AC/%EC%9E%90%EB%9E%80%EB%8B%A4%ED%8C%8C%EC%9D%B4%EC%8D%AC_%ED%94%84%EB%A1%9C%EC%A0%9D%ED%8A%B8.ipynb\" target=\"_parent\"><img src=\"https://colab.research.google.com/assets/colab-badge.svg\" alt=\"Open In Colab\"/></a>"
      ]
    },
    {
      "cell_type": "code",
      "source": [
        "# 사각형 넓이를 구하는 클래스 완성!\n",
        "class Square:\n",
        "    def __init__(self):\n",
        "        square = int(input('넓이를 구하고 싶은 사각형의 숫자를 써주세요.\\n 1.직사각형 2.평행사변형 3.사다리꼴 \\n >>>'))\n",
        "\n",
        "        if square == 1:\n",
        "            print('직사각형 함수는 rect()입니다.')\n",
        "\n",
        "        elif square == 2:\n",
        "            print('평행사변형 함수는 par()입니다.')\n",
        "        \n",
        "        elif square == 3:\n",
        "            print('사다리꼴 함수는 trape()입니다.')\n",
        "        \n",
        "        else:\n",
        "            print('1, 2, 3 중에서 다시 입력해주세요')\n",
        "\n",
        "    def rect(self):\n",
        "        width, vertical = map(int, input('가로, 세로를 입력하세요. 예시 : 가로,세로\\n >>>').split(','))\n",
        "        area = width * vertical\n",
        "        result = '직사각형의 넓이는 : ' + str(area)\n",
        "        return result\n",
        "\n",
        "    def par(self):\n",
        "        width, vertical = map(int, input('가로, 세로를 입력하세요. 예시 : 가로,세로\\n >>>').split(','))\n",
        "        area = width * vertical\n",
        "        result = '평행사변형의 넓이는 : ' + str(area)\n",
        "        return result\n",
        "\n",
        "    # 사다리꼴 메서드\n",
        "    def trape(self):\n",
        "        bottom, top,height = map(int, input('밑변, 윗변 , 높이를 입력하세요. 예시 : 밑변,윗변,높이\\n >>>').split(','))\n",
        "        area = top * bottom * height\n",
        "        result = '사다리꼴 : ' + str(area)\n",
        "        return result "
      ],
      "metadata": {
        "id": "jXRReHx5L5fe"
      },
      "execution_count": 1,
      "outputs": []
    },
    {
      "cell_type": "code",
      "source": [
        "a=Square()\n",
        "a.par()"
      ],
      "metadata": {
        "colab": {
          "base_uri": "https://localhost:8080/",
          "height": 145
        },
        "id": "mIisEdQpME0y",
        "outputId": "edce5e34-f8c0-4896-e941-6adaf20fb8aa"
      },
      "execution_count": 6,
      "outputs": [
        {
          "name": "stdout",
          "output_type": "stream",
          "text": [
            "넓이를 구하고 싶은 사각형의 숫자를 써주세요.\n",
            " 1.직사각형 2.평행사변형 3.사다리꼴 \n",
            " >>>2\n",
            "평행사변형 함수는 par()입니다.\n",
            "가로, 세로를 입력하세요. 예시 : 가로,세로\n",
            " >>>3,2\n"
          ]
        },
        {
          "output_type": "execute_result",
          "data": {
            "text/plain": [
              "'평행사변형의 넓이는 : 6'"
            ],
            "application/vnd.google.colaboratory.intrinsic+json": {
              "type": "string"
            }
          },
          "metadata": {},
          "execution_count": 6
        }
      ]
    },
    {
      "cell_type": "markdown",
      "source": [
        "2. KIOSK"
      ],
      "metadata": {
        "id": "sA1cyaj6LhiO"
      }
    },
    {
      "cell_type": "code",
      "source": [
        "\n",
        "# 문제 3-3. 클래스 업데이트  \n",
        "# 앞에서 구현했던 메서드들을 Kiosk 클래스에 추가합니다. 직접 코드를 작성해 보세요! \n",
        "menu = ['americano', 'latte', 'mocha', 'yuza_tea', 'green_tea', 'choco_latte']\n",
        "price = [2000, 3000, 3000, 2500, 2500, 3000]\n",
        "\n",
        "\n",
        "class Kiosk:\n",
        "    def __init__(self):\n",
        "        self.menu = menu\n",
        "        self.price = price\n",
        "\n",
        "    # 메뉴 출력 메서드\n",
        "    def menu_print(self):\n",
        "        for i in range(len(self.menu)):\n",
        "            print(i+1, self.menu[i], ' : ', self.price[i], '원')\n",
        "    \n",
        "    # 주문 메서드\n",
        "    def menu_select(self):\n",
        "        self.order_menu = []  # 주문 리스트\n",
        "        self.order_price = []  # 가격 리스트\n",
        "\n",
        "        n = 0\n",
        "        while n < 1 or len(menu) < n:\n",
        "            n = int(input(\"음료를 번호를 입력하세요 : \"))  # 음료 번호 입력\n",
        "\n",
        "            # 메뉴판에 있는 음료 번호일 때\n",
        "            if 1 <= n & n <= len(menu):\n",
        "                self.order_price.append(self.price[n-1])  # 가격 리스트에 추가합니다.\n",
        "                self.price_sum = self.price[n-1]  # 합계 금액\n",
        "            \n",
        "                # 메뉴판에 없는 번호일 때\n",
        "            else:  \n",
        "                print(\"없는 메뉴입니다. 다시 주문해 주세요.\")\n",
        "\n",
        "        t=0\n",
        "        # 음료 온도 물어보기\n",
        "        while t != 1 and t != 2:  # 1이나 2를 입력할 때까지 물어보기\n",
        "            t= int(input(\"HOT 음료는 1을, ICE 음료는 2를 입력하세요 : \"))\n",
        "            # 문제 2-3. 음료의 온도에 따라 temp 변수를 \"HOT\" 또는 \"ICE\"로 지정하세요.   \n",
        "            # 힌트: if문을 활용해보세요.        \n",
        "            if t == 1 :\n",
        "                self.temp = 'HOT'\n",
        "            elif t == 2:\n",
        "                self.temp = 'ICE'\n",
        "            else:    \n",
        "                print(\"1과 2 중 하나를 입력하세요.\\n\")\n",
        "        self.order_menu.append(self.temp + ' ' + self.menu[n-1])  # 주문 리스트에 추가합니다.\n",
        "        # 문제 2-2의 답을 입력하세요. \n",
        "        print(f'주문 음료 는 {self.temp} {self.menu[n-1]} : {self.price[n-1]} 원') # 온도 속성을 추가한 주문 결과를 출력합니다.\n",
        "\n",
        "\n",
        "        # 추가 주문 또는 지불\n",
        "        while n != 0:  # 지불을 선택하기 전까지 반복합니다.\n",
        "            print()  # 줄 바꾸면서 \n",
        "            n = int(input(\"추가 주문은 음료 번호를, 지불은 0을 누르세요 : \"))  # 추가 주문 또는 지불\n",
        "            \n",
        "            if n > 0 and n < len(self.menu) + 1: \n",
        "                t=0                \n",
        "                while True:\n",
        "                  t = int(input(\"HOT 음료는 1을, ICE 음료는 2를 입력하세요 : \"))\n",
        "                  \n",
        "                  if t == 1 :\n",
        "                      self.temp = 'HOT'\n",
        "                      break\n",
        "                  elif t == 2:\n",
        "                      self.temp = 'ICE'\n",
        "                      break\n",
        "                  else:    \n",
        "                      print(\"1과 2 중 하나를 입력하세요.\\n\")\n",
        "               \n",
        "                self.order_price.append(self.price[n-1])  # 가격 리스트에 추가\n",
        "                self.order_menu.append(self.temp + ' ' + self.menu[n-1])  # 주문 리스트에 추가\n",
        "                self.price_sum += self.price[n-1]\n",
        "                print(f'추가 주문 음료 : {self.temp} , {self.menu[n-1]} : {self.price[n-1]} 원\\n 합계 : {self.price_sum} 원')\n",
        "\n",
        "            else :\n",
        "                if n == 0 :  # 지불을 입력하면\n",
        "                    print(\"주문이 완료되었습니다.\")\n",
        "                    print(self.order_menu, self.order_price)  # 확인을 위한 리스트를 출력합니다.\n",
        "                else :  # 없는 번호를 입력할 때\n",
        "                    print(\"없는 메뉴입니다. 다시 주문해 주세요.\")\n",
        "\n",
        "\n",
        "\n",
        "    # 지불\n",
        "    def pay(self):\n",
        "        p = input('현금은 1번을 , 카드는 2번을 입력해 주세요!')\n",
        "        if p == 1:\n",
        "            print('직원을 호출 하겠습니다.')\n",
        "        else :\n",
        "            print('IC칩 방향에 맞게 카드를 꽂아 주세요')\n",
        "\n",
        "    # 주문서 출력 \n",
        "    def table(self):\n",
        "      # 외곽\n",
        "      print('⟝' + '-' * 30 + '⟞')\n",
        "      for i in range(5):\n",
        "          print('|' + ' ' * 31 + '|')\n",
        "\n",
        "      # 주문 상품명 : 해당 금액\n",
        "      for i in range(len(self.order_menu)):\n",
        "          print(self.order_menu[i], ' : ', self.order_price[i])\n",
        "\n",
        "      print('합계 금액 :', sum(self.order_price))\n",
        "\n",
        "      # 외곽\n",
        "      for i in range(5):\n",
        "          print('|' + ' ' * 31+ '|')\n",
        "      print('⟝' + '-' * 30 + '⟞')"
      ],
      "metadata": {
        "id": "zXmWfyz1SgjX"
      },
      "execution_count": 7,
      "outputs": []
    },
    {
      "cell_type": "code",
      "source": [
        "a = Kiosk()  # 객체 생성 \n",
        "a.menu_print()  # 메뉴 출력\n",
        "a.menu_select()  # 주문\n",
        "a.pay()  # 지불\n",
        "a.table()  # 주문표 출력"
      ],
      "metadata": {
        "colab": {
          "base_uri": "https://localhost:8080/"
        },
        "id": "n2xZLFRqLryh",
        "outputId": "e96d28ff-72e7-47d6-da25-534146b5dd92"
      },
      "execution_count": 8,
      "outputs": [
        {
          "output_type": "stream",
          "name": "stdout",
          "text": [
            "1 americano  :  2000 원\n",
            "2 latte  :  3000 원\n",
            "3 mocha  :  3000 원\n",
            "4 yuza_tea  :  2500 원\n",
            "5 green_tea  :  2500 원\n",
            "6 choco_latte  :  3000 원\n",
            "음료를 번호를 입력하세요 : 1\n",
            "HOT 음료는 1을, ICE 음료는 2를 입력하세요 : 2\n",
            "주문 음료 는 ICE americano : 2000 원\n",
            "\n",
            "추가 주문은 음료 번호를, 지불은 0을 누르세요 : 1\n",
            "HOT 음료는 1을, ICE 음료는 2를 입력하세요 : 1\n",
            "추가 주문 음료 : HOT , americano : 2000 원\n",
            " 합계 : 4000 원\n",
            "\n",
            "추가 주문은 음료 번호를, 지불은 0을 누르세요 : 2\n",
            "HOT 음료는 1을, ICE 음료는 2를 입력하세요 : 2\n",
            "추가 주문 음료 : ICE , latte : 3000 원\n",
            " 합계 : 7000 원\n",
            "\n",
            "추가 주문은 음료 번호를, 지불은 0을 누르세요 : 0\n",
            "주문이 완료되었습니다.\n",
            "['ICE americano', 'HOT americano', 'ICE latte'] [2000, 2000, 3000]\n",
            "현금은 1번을 , 카드는 2번을 입력해 주세요!2\n",
            "IC칩 방향에 맞게 카드를 꽂아 주세요\n",
            "⟝------------------------------⟞\n",
            "|                               |\n",
            "|                               |\n",
            "|                               |\n",
            "|                               |\n",
            "|                               |\n",
            "ICE americano  :  2000\n",
            "HOT americano  :  2000\n",
            "ICE latte  :  3000\n",
            "합계 금액 : 7000\n",
            "|                               |\n",
            "|                               |\n",
            "|                               |\n",
            "|                               |\n",
            "|                               |\n",
            "⟝------------------------------⟞\n"
          ]
        }
      ]
    }
  ]
}